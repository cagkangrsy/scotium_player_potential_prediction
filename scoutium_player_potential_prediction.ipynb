{
 "cells": [
  {
   "cell_type": "code",
   "execution_count": 1,
   "id": "c0ba2b38",
   "metadata": {
    "execution": {
     "iopub.execute_input": "2023-04-20T20:14:31.830940Z",
     "iopub.status.busy": "2023-04-20T20:14:31.830067Z",
     "iopub.status.idle": "2023-04-20T20:14:34.707583Z",
     "shell.execute_reply": "2023-04-20T20:14:34.706313Z"
    },
    "papermill": {
     "duration": 2.893642,
     "end_time": "2023-04-20T20:14:34.710543",
     "exception": false,
     "start_time": "2023-04-20T20:14:31.816901",
     "status": "completed"
    },
    "tags": []
   },
   "outputs": [
    {
     "data": {
      "text/html": [
       "<style type='text/css'>\n",
       ".datatable table.frame { margin-bottom: 0; }\n",
       ".datatable table.frame thead { border-bottom: none; }\n",
       ".datatable table.frame tr.coltypes td {  color: #FFFFFF;  line-height: 6px;  padding: 0 0.5em;}\n",
       ".datatable .bool    { background: #DDDD99; }\n",
       ".datatable .object  { background: #565656; }\n",
       ".datatable .int     { background: #5D9E5D; }\n",
       ".datatable .float   { background: #4040CC; }\n",
       ".datatable .str     { background: #CC4040; }\n",
       ".datatable .time    { background: #40CC40; }\n",
       ".datatable .row_index {  background: var(--jp-border-color3);  border-right: 1px solid var(--jp-border-color0);  color: var(--jp-ui-font-color3);  font-size: 9px;}\n",
       ".datatable .frame tbody td { text-align: left; }\n",
       ".datatable .frame tr.coltypes .row_index {  background: var(--jp-border-color0);}\n",
       ".datatable th:nth-child(2) { padding-left: 12px; }\n",
       ".datatable .hellipsis {  color: var(--jp-cell-editor-border-color);}\n",
       ".datatable .vellipsis {  background: var(--jp-layout-color0);  color: var(--jp-cell-editor-border-color);}\n",
       ".datatable .na {  color: var(--jp-cell-editor-border-color);  font-size: 80%;}\n",
       ".datatable .sp {  opacity: 0.25;}\n",
       ".datatable .footer { font-size: 9px; }\n",
       ".datatable .frame_dimensions {  background: var(--jp-border-color3);  border-top: 1px solid var(--jp-border-color0);  color: var(--jp-ui-font-color3);  display: inline-block;  opacity: 0.6;  padding: 1px 10px 1px 5px;}\n",
       "</style>\n"
      ],
      "text/plain": [
       "<IPython.core.display.HTML object>"
      ]
     },
     "metadata": {},
     "output_type": "display_data"
    }
   ],
   "source": [
    "import pandas as pd\n",
    "import numpy as np\n",
    "import seaborn as sns\n",
    "import matplotlib.pyplot as plt\n",
    "\n",
    "from sklearn.neighbors import KNeighborsClassifier\n",
    "from sklearn.tree import DecisionTreeClassifier\n",
    "from sklearn.ensemble import RandomForestClassifier, GradientBoostingClassifier\n",
    "from xgboost import XGBClassifier\n",
    "from lightgbm import LGBMClassifier\n",
    "from catboost import CatBoostClassifier\n",
    "\n",
    "from sklearn.preprocessing import LabelEncoder, StandardScaler\n",
    "from sklearn.metrics import classification_report, roc_auc_score, accuracy_score, f1_score\n",
    "from sklearn.model_selection import GridSearchCV, cross_validate, validation_curve, train_test_split"
   ]
  },
  {
   "cell_type": "code",
   "execution_count": 2,
   "id": "efeaaaba",
   "metadata": {
    "execution": {
     "iopub.execute_input": "2023-04-20T20:14:34.734217Z",
     "iopub.status.busy": "2023-04-20T20:14:34.733486Z",
     "iopub.status.idle": "2023-04-20T20:14:34.739946Z",
     "shell.execute_reply": "2023-04-20T20:14:34.738827Z"
    },
    "papermill": {
     "duration": 0.020528,
     "end_time": "2023-04-20T20:14:34.742313",
     "exception": false,
     "start_time": "2023-04-20T20:14:34.721785",
     "status": "completed"
    },
    "tags": []
   },
   "outputs": [],
   "source": [
    "pd.set_option('display.max_columns', None)\n",
    "pd.set_option('display.max_rows', None)\n",
    "pd.set_option('display.width', 500)\n",
    "pd.set_option('display.float_format', lambda x: '%.3f' % x)"
   ]
  },
  {
   "cell_type": "code",
   "execution_count": 3,
   "id": "b0e3c928",
   "metadata": {
    "execution": {
     "iopub.execute_input": "2023-04-20T20:14:34.766884Z",
     "iopub.status.busy": "2023-04-20T20:14:34.766438Z",
     "iopub.status.idle": "2023-04-20T20:14:34.803336Z",
     "shell.execute_reply": "2023-04-20T20:14:34.801851Z"
    },
    "papermill": {
     "duration": 0.053232,
     "end_time": "2023-04-20T20:14:34.806366",
     "exception": false,
     "start_time": "2023-04-20T20:14:34.753134",
     "status": "completed"
    },
    "tags": []
   },
   "outputs": [],
   "source": [
    "df_attributes = pd.read_csv(\"/kaggle/input/scotium/scoutium_attributes.csv\")"
   ]
  },
  {
   "cell_type": "code",
   "execution_count": 4,
   "id": "bb36d972",
   "metadata": {
    "execution": {
     "iopub.execute_input": "2023-04-20T20:14:34.829158Z",
     "iopub.status.busy": "2023-04-20T20:14:34.828729Z",
     "iopub.status.idle": "2023-04-20T20:14:34.839396Z",
     "shell.execute_reply": "2023-04-20T20:14:34.838416Z"
    },
    "papermill": {
     "duration": 0.024957,
     "end_time": "2023-04-20T20:14:34.842010",
     "exception": false,
     "start_time": "2023-04-20T20:14:34.817053",
     "status": "completed"
    },
    "tags": []
   },
   "outputs": [],
   "source": [
    "df_labels = pd.read_csv(\"/kaggle/input/scotium/scoutium_potential_labels.csv\")"
   ]
  },
  {
   "cell_type": "code",
   "execution_count": 5,
   "id": "f3416928",
   "metadata": {
    "execution": {
     "iopub.execute_input": "2023-04-20T20:14:34.865865Z",
     "iopub.status.busy": "2023-04-20T20:14:34.864439Z",
     "iopub.status.idle": "2023-04-20T20:14:34.870820Z",
     "shell.execute_reply": "2023-04-20T20:14:34.869940Z"
    },
    "papermill": {
     "duration": 0.020997,
     "end_time": "2023-04-20T20:14:34.873176",
     "exception": false,
     "start_time": "2023-04-20T20:14:34.852179",
     "status": "completed"
    },
    "tags": []
   },
   "outputs": [],
   "source": [
    "def get_df_name(df):\n",
    "    name =[x for x in globals() if globals()[x] is df][0]\n",
    "    return name"
   ]
  },
  {
   "cell_type": "code",
   "execution_count": 6,
   "id": "aeef6e22",
   "metadata": {
    "execution": {
     "iopub.execute_input": "2023-04-20T20:14:34.895992Z",
     "iopub.status.busy": "2023-04-20T20:14:34.895583Z",
     "iopub.status.idle": "2023-04-20T20:14:34.903638Z",
     "shell.execute_reply": "2023-04-20T20:14:34.902428Z"
    },
    "papermill": {
     "duration": 0.022069,
     "end_time": "2023-04-20T20:14:34.905904",
     "exception": false,
     "start_time": "2023-04-20T20:14:34.883835",
     "status": "completed"
    },
    "tags": []
   },
   "outputs": [],
   "source": [
    "def general_info (dataframe):\n",
    "    print('\\033[1m' +f'{get_df_name(dataframe).upper()}'+'\\033[0m')\n",
    "    print(\"\\n\")\n",
    "    print('\\033[1m' +f\" SHAPE \".center(30, '-')+'\\033[0m')\n",
    "    print(dataframe.shape,\"\\n\")\n",
    "    print('\\033[1m' +f\" VARIABLE TYPES \".center(30, '-')+'\\033[0m')\n",
    "    print(dataframe.info(),\"\\n\")\n",
    "    print('\\033[1m' +f\" NULL VALUE \".center(30, '-')+'\\033[0m')\n",
    "    print(dataframe.isnull().sum(),\"\\n\")"
   ]
  },
  {
   "cell_type": "code",
   "execution_count": 7,
   "id": "5ebd45cc",
   "metadata": {
    "execution": {
     "iopub.execute_input": "2023-04-20T20:14:34.929347Z",
     "iopub.status.busy": "2023-04-20T20:14:34.928438Z",
     "iopub.status.idle": "2023-04-20T20:14:34.959355Z",
     "shell.execute_reply": "2023-04-20T20:14:34.958138Z"
    },
    "papermill": {
     "duration": 0.045028,
     "end_time": "2023-04-20T20:14:34.961639",
     "exception": false,
     "start_time": "2023-04-20T20:14:34.916611",
     "status": "completed"
    },
    "tags": []
   },
   "outputs": [
    {
     "name": "stdout",
     "output_type": "stream",
     "text": [
      "\u001b[1mDF_ATTRIBUTES\u001b[0m\n",
      "\n",
      "\n",
      "\u001b[1m----------- SHAPE ------------\u001b[0m\n",
      "(10730, 8) \n",
      "\n",
      "\u001b[1m------- VARIABLE TYPES -------\u001b[0m\n",
      "<class 'pandas.core.frame.DataFrame'>\n",
      "RangeIndex: 10730 entries, 0 to 10729\n",
      "Data columns (total 8 columns):\n",
      " #   Column            Non-Null Count  Dtype  \n",
      "---  ------            --------------  -----  \n",
      " 0   task_response_id  10730 non-null  int64  \n",
      " 1   match_id          10730 non-null  int64  \n",
      " 2   evaluator_id      10730 non-null  int64  \n",
      " 3   player_id         10730 non-null  int64  \n",
      " 4   position_id       10730 non-null  int64  \n",
      " 5   analysis_id       10730 non-null  int64  \n",
      " 6   attribute_id      10730 non-null  int64  \n",
      " 7   attribute_value   10730 non-null  float64\n",
      "dtypes: float64(1), int64(7)\n",
      "memory usage: 670.8 KB\n",
      "None \n",
      "\n",
      "\u001b[1m--------- NULL VALUE ---------\u001b[0m\n",
      "task_response_id    0\n",
      "match_id            0\n",
      "evaluator_id        0\n",
      "player_id           0\n",
      "position_id         0\n",
      "analysis_id         0\n",
      "attribute_id        0\n",
      "attribute_value     0\n",
      "dtype: int64 \n",
      "\n"
     ]
    }
   ],
   "source": [
    "general_info(df_attributes)"
   ]
  },
  {
   "cell_type": "code",
   "execution_count": 8,
   "id": "770e8647",
   "metadata": {
    "execution": {
     "iopub.execute_input": "2023-04-20T20:14:34.984892Z",
     "iopub.status.busy": "2023-04-20T20:14:34.984195Z",
     "iopub.status.idle": "2023-04-20T20:14:35.000197Z",
     "shell.execute_reply": "2023-04-20T20:14:34.998982Z"
    },
    "papermill": {
     "duration": 0.030276,
     "end_time": "2023-04-20T20:14:35.002574",
     "exception": false,
     "start_time": "2023-04-20T20:14:34.972298",
     "status": "completed"
    },
    "tags": []
   },
   "outputs": [
    {
     "data": {
      "text/html": [
       "<div>\n",
       "<style scoped>\n",
       "    .dataframe tbody tr th:only-of-type {\n",
       "        vertical-align: middle;\n",
       "    }\n",
       "\n",
       "    .dataframe tbody tr th {\n",
       "        vertical-align: top;\n",
       "    }\n",
       "\n",
       "    .dataframe thead th {\n",
       "        text-align: right;\n",
       "    }\n",
       "</style>\n",
       "<table border=\"1\" class=\"dataframe\">\n",
       "  <thead>\n",
       "    <tr style=\"text-align: right;\">\n",
       "      <th></th>\n",
       "      <th>task_response_id</th>\n",
       "      <th>match_id</th>\n",
       "      <th>evaluator_id</th>\n",
       "      <th>player_id</th>\n",
       "      <th>position_id</th>\n",
       "      <th>analysis_id</th>\n",
       "      <th>attribute_id</th>\n",
       "      <th>attribute_value</th>\n",
       "    </tr>\n",
       "  </thead>\n",
       "  <tbody>\n",
       "    <tr>\n",
       "      <th>0</th>\n",
       "      <td>4915</td>\n",
       "      <td>62935</td>\n",
       "      <td>177676</td>\n",
       "      <td>1361061</td>\n",
       "      <td>2</td>\n",
       "      <td>12818495</td>\n",
       "      <td>4322</td>\n",
       "      <td>56.000</td>\n",
       "    </tr>\n",
       "    <tr>\n",
       "      <th>1</th>\n",
       "      <td>4915</td>\n",
       "      <td>62935</td>\n",
       "      <td>177676</td>\n",
       "      <td>1361061</td>\n",
       "      <td>2</td>\n",
       "      <td>12818495</td>\n",
       "      <td>4323</td>\n",
       "      <td>56.000</td>\n",
       "    </tr>\n",
       "    <tr>\n",
       "      <th>2</th>\n",
       "      <td>4915</td>\n",
       "      <td>62935</td>\n",
       "      <td>177676</td>\n",
       "      <td>1361061</td>\n",
       "      <td>2</td>\n",
       "      <td>12818495</td>\n",
       "      <td>4324</td>\n",
       "      <td>67.000</td>\n",
       "    </tr>\n",
       "    <tr>\n",
       "      <th>3</th>\n",
       "      <td>4915</td>\n",
       "      <td>62935</td>\n",
       "      <td>177676</td>\n",
       "      <td>1361061</td>\n",
       "      <td>2</td>\n",
       "      <td>12818495</td>\n",
       "      <td>4325</td>\n",
       "      <td>56.000</td>\n",
       "    </tr>\n",
       "    <tr>\n",
       "      <th>4</th>\n",
       "      <td>4915</td>\n",
       "      <td>62935</td>\n",
       "      <td>177676</td>\n",
       "      <td>1361061</td>\n",
       "      <td>2</td>\n",
       "      <td>12818495</td>\n",
       "      <td>4326</td>\n",
       "      <td>45.000</td>\n",
       "    </tr>\n",
       "  </tbody>\n",
       "</table>\n",
       "</div>"
      ],
      "text/plain": [
       "   task_response_id  match_id  evaluator_id  player_id  position_id  analysis_id  attribute_id  attribute_value\n",
       "0              4915     62935        177676    1361061            2     12818495          4322           56.000\n",
       "1              4915     62935        177676    1361061            2     12818495          4323           56.000\n",
       "2              4915     62935        177676    1361061            2     12818495          4324           67.000\n",
       "3              4915     62935        177676    1361061            2     12818495          4325           56.000\n",
       "4              4915     62935        177676    1361061            2     12818495          4326           45.000"
      ]
     },
     "execution_count": 8,
     "metadata": {},
     "output_type": "execute_result"
    }
   ],
   "source": [
    "df_attributes.head()"
   ]
  },
  {
   "cell_type": "code",
   "execution_count": 9,
   "id": "4cac78b7",
   "metadata": {
    "execution": {
     "iopub.execute_input": "2023-04-20T20:14:35.025981Z",
     "iopub.status.busy": "2023-04-20T20:14:35.025318Z",
     "iopub.status.idle": "2023-04-20T20:14:35.039150Z",
     "shell.execute_reply": "2023-04-20T20:14:35.037679Z"
    },
    "papermill": {
     "duration": 0.028352,
     "end_time": "2023-04-20T20:14:35.041517",
     "exception": false,
     "start_time": "2023-04-20T20:14:35.013165",
     "status": "completed"
    },
    "tags": []
   },
   "outputs": [
    {
     "name": "stdout",
     "output_type": "stream",
     "text": [
      "\u001b[1mDF_LABELS\u001b[0m\n",
      "\n",
      "\n",
      "\u001b[1m----------- SHAPE ------------\u001b[0m\n",
      "(322, 5) \n",
      "\n",
      "\u001b[1m------- VARIABLE TYPES -------\u001b[0m\n",
      "<class 'pandas.core.frame.DataFrame'>\n",
      "RangeIndex: 322 entries, 0 to 321\n",
      "Data columns (total 5 columns):\n",
      " #   Column            Non-Null Count  Dtype \n",
      "---  ------            --------------  ----- \n",
      " 0   task_response_id  322 non-null    int64 \n",
      " 1   match_id          322 non-null    int64 \n",
      " 2   evaluator_id      322 non-null    int64 \n",
      " 3   player_id         322 non-null    int64 \n",
      " 4   potential_label   322 non-null    object\n",
      "dtypes: int64(4), object(1)\n",
      "memory usage: 12.7+ KB\n",
      "None \n",
      "\n",
      "\u001b[1m--------- NULL VALUE ---------\u001b[0m\n",
      "task_response_id    0\n",
      "match_id            0\n",
      "evaluator_id        0\n",
      "player_id           0\n",
      "potential_label     0\n",
      "dtype: int64 \n",
      "\n"
     ]
    }
   ],
   "source": [
    "general_info(df_labels)"
   ]
  },
  {
   "cell_type": "code",
   "execution_count": 10,
   "id": "adbd9a5c",
   "metadata": {
    "execution": {
     "iopub.execute_input": "2023-04-20T20:14:35.065001Z",
     "iopub.status.busy": "2023-04-20T20:14:35.064556Z",
     "iopub.status.idle": "2023-04-20T20:14:35.076104Z",
     "shell.execute_reply": "2023-04-20T20:14:35.074950Z"
    },
    "papermill": {
     "duration": 0.026032,
     "end_time": "2023-04-20T20:14:35.078223",
     "exception": false,
     "start_time": "2023-04-20T20:14:35.052191",
     "status": "completed"
    },
    "tags": []
   },
   "outputs": [
    {
     "data": {
      "text/html": [
       "<div>\n",
       "<style scoped>\n",
       "    .dataframe tbody tr th:only-of-type {\n",
       "        vertical-align: middle;\n",
       "    }\n",
       "\n",
       "    .dataframe tbody tr th {\n",
       "        vertical-align: top;\n",
       "    }\n",
       "\n",
       "    .dataframe thead th {\n",
       "        text-align: right;\n",
       "    }\n",
       "</style>\n",
       "<table border=\"1\" class=\"dataframe\">\n",
       "  <thead>\n",
       "    <tr style=\"text-align: right;\">\n",
       "      <th></th>\n",
       "      <th>task_response_id</th>\n",
       "      <th>match_id</th>\n",
       "      <th>evaluator_id</th>\n",
       "      <th>player_id</th>\n",
       "      <th>potential_label</th>\n",
       "    </tr>\n",
       "  </thead>\n",
       "  <tbody>\n",
       "    <tr>\n",
       "      <th>0</th>\n",
       "      <td>4915</td>\n",
       "      <td>62935</td>\n",
       "      <td>177676</td>\n",
       "      <td>1361061</td>\n",
       "      <td>average</td>\n",
       "    </tr>\n",
       "    <tr>\n",
       "      <th>1</th>\n",
       "      <td>4915</td>\n",
       "      <td>62935</td>\n",
       "      <td>177676</td>\n",
       "      <td>1361626</td>\n",
       "      <td>highlighted</td>\n",
       "    </tr>\n",
       "    <tr>\n",
       "      <th>2</th>\n",
       "      <td>4915</td>\n",
       "      <td>62935</td>\n",
       "      <td>177676</td>\n",
       "      <td>1361858</td>\n",
       "      <td>average</td>\n",
       "    </tr>\n",
       "    <tr>\n",
       "      <th>3</th>\n",
       "      <td>4915</td>\n",
       "      <td>62935</td>\n",
       "      <td>177676</td>\n",
       "      <td>1362220</td>\n",
       "      <td>highlighted</td>\n",
       "    </tr>\n",
       "    <tr>\n",
       "      <th>4</th>\n",
       "      <td>4915</td>\n",
       "      <td>62935</td>\n",
       "      <td>177676</td>\n",
       "      <td>1364951</td>\n",
       "      <td>highlighted</td>\n",
       "    </tr>\n",
       "  </tbody>\n",
       "</table>\n",
       "</div>"
      ],
      "text/plain": [
       "   task_response_id  match_id  evaluator_id  player_id potential_label\n",
       "0              4915     62935        177676    1361061         average\n",
       "1              4915     62935        177676    1361626     highlighted\n",
       "2              4915     62935        177676    1361858         average\n",
       "3              4915     62935        177676    1362220     highlighted\n",
       "4              4915     62935        177676    1364951     highlighted"
      ]
     },
     "execution_count": 10,
     "metadata": {},
     "output_type": "execute_result"
    }
   ],
   "source": [
    "df_labels.head()"
   ]
  },
  {
   "cell_type": "code",
   "execution_count": 11,
   "id": "7061a336",
   "metadata": {
    "execution": {
     "iopub.execute_input": "2023-04-20T20:14:35.101963Z",
     "iopub.status.busy": "2023-04-20T20:14:35.101177Z",
     "iopub.status.idle": "2023-04-20T20:14:35.120642Z",
     "shell.execute_reply": "2023-04-20T20:14:35.119418Z"
    },
    "papermill": {
     "duration": 0.034493,
     "end_time": "2023-04-20T20:14:35.123546",
     "exception": false,
     "start_time": "2023-04-20T20:14:35.089053",
     "status": "completed"
    },
    "tags": []
   },
   "outputs": [],
   "source": [
    "df = df_attributes.merge(df_labels, on=[\"task_response_id\", \"match_id\", \"evaluator_id\", \"player_id\"])"
   ]
  },
  {
   "cell_type": "code",
   "execution_count": 12,
   "id": "e513cf42",
   "metadata": {
    "execution": {
     "iopub.execute_input": "2023-04-20T20:14:35.148378Z",
     "iopub.status.busy": "2023-04-20T20:14:35.147944Z",
     "iopub.status.idle": "2023-04-20T20:14:35.161743Z",
     "shell.execute_reply": "2023-04-20T20:14:35.160584Z"
    },
    "papermill": {
     "duration": 0.028317,
     "end_time": "2023-04-20T20:14:35.164113",
     "exception": false,
     "start_time": "2023-04-20T20:14:35.135796",
     "status": "completed"
    },
    "tags": []
   },
   "outputs": [
    {
     "data": {
      "text/html": [
       "<div>\n",
       "<style scoped>\n",
       "    .dataframe tbody tr th:only-of-type {\n",
       "        vertical-align: middle;\n",
       "    }\n",
       "\n",
       "    .dataframe tbody tr th {\n",
       "        vertical-align: top;\n",
       "    }\n",
       "\n",
       "    .dataframe thead th {\n",
       "        text-align: right;\n",
       "    }\n",
       "</style>\n",
       "<table border=\"1\" class=\"dataframe\">\n",
       "  <thead>\n",
       "    <tr style=\"text-align: right;\">\n",
       "      <th></th>\n",
       "      <th>task_response_id</th>\n",
       "      <th>match_id</th>\n",
       "      <th>evaluator_id</th>\n",
       "      <th>player_id</th>\n",
       "      <th>position_id</th>\n",
       "      <th>analysis_id</th>\n",
       "      <th>attribute_id</th>\n",
       "      <th>attribute_value</th>\n",
       "      <th>potential_label</th>\n",
       "    </tr>\n",
       "  </thead>\n",
       "  <tbody>\n",
       "    <tr>\n",
       "      <th>0</th>\n",
       "      <td>4915</td>\n",
       "      <td>62935</td>\n",
       "      <td>177676</td>\n",
       "      <td>1361061</td>\n",
       "      <td>2</td>\n",
       "      <td>12818495</td>\n",
       "      <td>4322</td>\n",
       "      <td>56.000</td>\n",
       "      <td>average</td>\n",
       "    </tr>\n",
       "    <tr>\n",
       "      <th>1</th>\n",
       "      <td>4915</td>\n",
       "      <td>62935</td>\n",
       "      <td>177676</td>\n",
       "      <td>1361061</td>\n",
       "      <td>2</td>\n",
       "      <td>12818495</td>\n",
       "      <td>4323</td>\n",
       "      <td>56.000</td>\n",
       "      <td>average</td>\n",
       "    </tr>\n",
       "    <tr>\n",
       "      <th>2</th>\n",
       "      <td>4915</td>\n",
       "      <td>62935</td>\n",
       "      <td>177676</td>\n",
       "      <td>1361061</td>\n",
       "      <td>2</td>\n",
       "      <td>12818495</td>\n",
       "      <td>4324</td>\n",
       "      <td>67.000</td>\n",
       "      <td>average</td>\n",
       "    </tr>\n",
       "    <tr>\n",
       "      <th>3</th>\n",
       "      <td>4915</td>\n",
       "      <td>62935</td>\n",
       "      <td>177676</td>\n",
       "      <td>1361061</td>\n",
       "      <td>2</td>\n",
       "      <td>12818495</td>\n",
       "      <td>4325</td>\n",
       "      <td>56.000</td>\n",
       "      <td>average</td>\n",
       "    </tr>\n",
       "    <tr>\n",
       "      <th>4</th>\n",
       "      <td>4915</td>\n",
       "      <td>62935</td>\n",
       "      <td>177676</td>\n",
       "      <td>1361061</td>\n",
       "      <td>2</td>\n",
       "      <td>12818495</td>\n",
       "      <td>4326</td>\n",
       "      <td>45.000</td>\n",
       "      <td>average</td>\n",
       "    </tr>\n",
       "  </tbody>\n",
       "</table>\n",
       "</div>"
      ],
      "text/plain": [
       "   task_response_id  match_id  evaluator_id  player_id  position_id  analysis_id  attribute_id  attribute_value potential_label\n",
       "0              4915     62935        177676    1361061            2     12818495          4322           56.000         average\n",
       "1              4915     62935        177676    1361061            2     12818495          4323           56.000         average\n",
       "2              4915     62935        177676    1361061            2     12818495          4324           67.000         average\n",
       "3              4915     62935        177676    1361061            2     12818495          4325           56.000         average\n",
       "4              4915     62935        177676    1361061            2     12818495          4326           45.000         average"
      ]
     },
     "execution_count": 12,
     "metadata": {},
     "output_type": "execute_result"
    }
   ],
   "source": [
    "df.head()"
   ]
  },
  {
   "cell_type": "code",
   "execution_count": 13,
   "id": "155cb851",
   "metadata": {
    "execution": {
     "iopub.execute_input": "2023-04-20T20:14:35.188170Z",
     "iopub.status.busy": "2023-04-20T20:14:35.187713Z",
     "iopub.status.idle": "2023-04-20T20:14:35.198897Z",
     "shell.execute_reply": "2023-04-20T20:14:35.197545Z"
    },
    "papermill": {
     "duration": 0.026308,
     "end_time": "2023-04-20T20:14:35.201527",
     "exception": false,
     "start_time": "2023-04-20T20:14:35.175219",
     "status": "completed"
    },
    "tags": []
   },
   "outputs": [],
   "source": [
    "def grab_col_names(dataframe, cat_th=10, car_th=20):\n",
    "\n",
    "    cat_cols = [col for col in dataframe.columns if dataframe[col].dtypes == \"O\"]\n",
    "    num_but_cat = [col for col in dataframe.columns if dataframe[col].nunique() < cat_th and\n",
    "                   dataframe[col].dtypes != \"O\"]\n",
    "    cat_but_car = [col for col in dataframe.columns if dataframe[col].nunique() > car_th and\n",
    "                   dataframe[col].dtypes == \"O\"]\n",
    "    cat_cols = cat_cols + num_but_cat\n",
    "    cat_cols = [col for col in cat_cols if col not in cat_but_car]\n",
    "\n",
    "    # num_cols\n",
    "    num_cols = [col for col in dataframe.columns if dataframe[col].dtypes != \"O\"]\n",
    "    num_cols = [col for col in num_cols if col not in num_but_cat]\n",
    "\n",
    "    print('\\033[1m'f\"{get_df_name(dataframe).upper()}\",'\\033[0m' \"\\n\")\n",
    "    print(f\"Observations: {dataframe.shape[0]}\")\n",
    "    print(f\"Variables: {dataframe.shape[1]}\")\n",
    "    print(f'cat_cols: {len(cat_cols)}')\n",
    "    print(f'num_cols: {len(num_cols)}')\n",
    "    print(f'cat_but_car: {len(cat_but_car)}')\n",
    "    print(f'num_but_cat: {len(num_but_cat)}')\n",
    "    return cat_cols, num_cols, cat_but_car"
   ]
  },
  {
   "cell_type": "code",
   "execution_count": 14,
   "id": "6fc95bfe",
   "metadata": {
    "execution": {
     "iopub.execute_input": "2023-04-20T20:14:35.225950Z",
     "iopub.status.busy": "2023-04-20T20:14:35.225489Z",
     "iopub.status.idle": "2023-04-20T20:14:35.239129Z",
     "shell.execute_reply": "2023-04-20T20:14:35.237776Z"
    },
    "papermill": {
     "duration": 0.028933,
     "end_time": "2023-04-20T20:14:35.241620",
     "exception": false,
     "start_time": "2023-04-20T20:14:35.212687",
     "status": "completed"
    },
    "tags": []
   },
   "outputs": [
    {
     "name": "stdout",
     "output_type": "stream",
     "text": [
      "\u001b[1mDF \u001b[0m\n",
      "\n",
      "Observations: 10730\n",
      "Variables: 9\n",
      "cat_cols: 1\n",
      "num_cols: 8\n",
      "cat_but_car: 0\n",
      "num_but_cat: 0\n",
      "\n",
      "Numerical Columns:['task_response_id', 'match_id', 'evaluator_id', 'player_id', 'position_id', 'analysis_id', 'attribute_id', 'attribute_value']\n",
      "Categorical Columns:['potential_label']\n",
      "Cardinal Columns:[]\n"
     ]
    }
   ],
   "source": [
    "cat_cols, num_cols, cat_but_car = grab_col_names(df)\n",
    "print(f\"\\nNumerical Columns:{num_cols}\\nCategorical Columns:{cat_cols}\\nCardinal Columns:{cat_but_car}\")"
   ]
  },
  {
   "cell_type": "code",
   "execution_count": 15,
   "id": "8de34b67",
   "metadata": {
    "execution": {
     "iopub.execute_input": "2023-04-20T20:14:35.266975Z",
     "iopub.status.busy": "2023-04-20T20:14:35.266124Z",
     "iopub.status.idle": "2023-04-20T20:14:35.273219Z",
     "shell.execute_reply": "2023-04-20T20:14:35.272281Z"
    },
    "papermill": {
     "duration": 0.02258,
     "end_time": "2023-04-20T20:14:35.275568",
     "exception": false,
     "start_time": "2023-04-20T20:14:35.252988",
     "status": "completed"
    },
    "tags": []
   },
   "outputs": [],
   "source": [
    "def cat_summary(dataframe, col_name, plot=False):\n",
    "  print('\\033[1m' +f'{col_name.upper()}'.center(30, '-')+'\\033[0m')\n",
    "  print(pd.DataFrame({\"Count\": dataframe[col_name].value_counts(),\n",
    "                      \"Ratio\": 100 * dataframe[col_name].value_counts() / len(dataframe)}))\n",
    "  print(\"\\n\")\n",
    "  if plot:\n",
    "    sns.countplot(x=dataframe[col_name], data=dataframe)\n",
    "    plt.show()\n",
    "    #print(\"\\n\")"
   ]
  },
  {
   "cell_type": "code",
   "execution_count": 16,
   "id": "873dac33",
   "metadata": {
    "execution": {
     "iopub.execute_input": "2023-04-20T20:14:35.300668Z",
     "iopub.status.busy": "2023-04-20T20:14:35.299965Z",
     "iopub.status.idle": "2023-04-20T20:14:35.642298Z",
     "shell.execute_reply": "2023-04-20T20:14:35.640943Z"
    },
    "papermill": {
     "duration": 0.35805,
     "end_time": "2023-04-20T20:14:35.645138",
     "exception": false,
     "start_time": "2023-04-20T20:14:35.287088",
     "status": "completed"
    },
    "tags": []
   },
   "outputs": [
    {
     "name": "stdout",
     "output_type": "stream",
     "text": [
      "\u001b[1m-------POTENTIAL_LABEL--------\u001b[0m\n",
      "               Count  Ratio\n",
      "average         8497 79.189\n",
      "highlighted     2097 19.543\n",
      "below_average    136  1.267\n",
      "\n",
      "\n"
     ]
    },
    {
     "data": {
      "image/png": "[encoded data removed]",
      "text/plain": [
       "<Figure size 432x288 with 1 Axes>"
      ]
     },
     "metadata": {
      "needs_background": "light"
     },
     "output_type": "display_data"
    }
   ],
   "source": [
    "for col in cat_cols:\n",
    "    cat_summary(df, col,plot=True)"
   ]
  },
  {
   "cell_type": "code",
   "execution_count": 17,
   "id": "42e395f5",
   "metadata": {
    "execution": {
     "iopub.execute_input": "2023-04-20T20:14:35.670317Z",
     "iopub.status.busy": "2023-04-20T20:14:35.669862Z",
     "iopub.status.idle": "2023-04-20T20:14:35.677406Z",
     "shell.execute_reply": "2023-04-20T20:14:35.676243Z"
    },
    "papermill": {
     "duration": 0.022836,
     "end_time": "2023-04-20T20:14:35.679655",
     "exception": false,
     "start_time": "2023-04-20T20:14:35.656819",
     "status": "completed"
    },
    "tags": []
   },
   "outputs": [],
   "source": [
    "def num_summary(dataframe, numerical_col, plot=False):\n",
    "  print('\\033[1m' +f'{numerical_col.upper()}'.center(30, '-')+'\\033[0m')\n",
    "  quantiles = [0.05, 0.10, 0.20, 0.30, 0.40, 0.50, 0.60, 0.70, 0.80, 0.90, 0.95, 0.99]\n",
    "  print(dataframe[numerical_col].describe(quantiles).T)\n",
    "  print(\"\\n\")\n",
    "\n",
    "  if plot:\n",
    "        dataframe[numerical_col].hist(bins=50)\n",
    "        plt.xlabel(numerical_col)\n",
    "        plt.title(numerical_col)\n",
    "        plt.show(block=True)\n",
    "        print(\"\\n\")"
   ]
  },
  {
   "cell_type": "code",
   "execution_count": 18,
   "id": "f292bf30",
   "metadata": {
    "execution": {
     "iopub.execute_input": "2023-04-20T20:14:35.705182Z",
     "iopub.status.busy": "2023-04-20T20:14:35.704733Z",
     "iopub.status.idle": "2023-04-20T20:14:35.716846Z",
     "shell.execute_reply": "2023-04-20T20:14:35.715725Z"
    },
    "papermill": {
     "duration": 0.027416,
     "end_time": "2023-04-20T20:14:35.719002",
     "exception": false,
     "start_time": "2023-04-20T20:14:35.691586",
     "status": "completed"
    },
    "tags": []
   },
   "outputs": [
    {
     "name": "stdout",
     "output_type": "stream",
     "text": [
      "\u001b[1m-------ATTRIBUTE_VALUE--------\u001b[0m\n",
      "count   10730.000\n",
      "mean       55.271\n",
      "std        16.048\n",
      "min         1.000\n",
      "5%         23.000\n",
      "10%        34.000\n",
      "20%        45.000\n",
      "30%        45.000\n",
      "40%        56.000\n",
      "50%        56.000\n",
      "60%        67.000\n",
      "70%        67.000\n",
      "80%        67.000\n",
      "90%        78.000\n",
      "95%        78.000\n",
      "99%        78.000\n",
      "max       100.000\n",
      "Name: attribute_value, dtype: float64\n",
      "\n",
      "\n"
     ]
    }
   ],
   "source": [
    "num_summary(df, \"attribute_value\")"
   ]
  },
  {
   "cell_type": "code",
   "execution_count": 19,
   "id": "cf27662b",
   "metadata": {
    "execution": {
     "iopub.execute_input": "2023-04-20T20:14:35.744629Z",
     "iopub.status.busy": "2023-04-20T20:14:35.743971Z",
     "iopub.status.idle": "2023-04-20T20:14:35.751292Z",
     "shell.execute_reply": "2023-04-20T20:14:35.750203Z"
    },
    "papermill": {
     "duration": 0.022722,
     "end_time": "2023-04-20T20:14:35.753424",
     "exception": false,
     "start_time": "2023-04-20T20:14:35.730702",
     "status": "completed"
    },
    "tags": []
   },
   "outputs": [
    {
     "data": {
      "text/plain": [
       "(700, 9)"
      ]
     },
     "execution_count": 19,
     "metadata": {},
     "output_type": "execute_result"
    }
   ],
   "source": [
    "df[(df[\"position_id\"] == 1)].shape"
   ]
  },
  {
   "cell_type": "code",
   "execution_count": 20,
   "id": "0b03cd3c",
   "metadata": {
    "execution": {
     "iopub.execute_input": "2023-04-20T20:14:35.779847Z",
     "iopub.status.busy": "2023-04-20T20:14:35.779148Z",
     "iopub.status.idle": "2023-04-20T20:14:35.785190Z",
     "shell.execute_reply": "2023-04-20T20:14:35.784195Z"
    },
    "papermill": {
     "duration": 0.022121,
     "end_time": "2023-04-20T20:14:35.787467",
     "exception": false,
     "start_time": "2023-04-20T20:14:35.765346",
     "status": "completed"
    },
    "tags": []
   },
   "outputs": [],
   "source": [
    "df = df[~(df[\"position_id\"] == 1)]"
   ]
  },
  {
   "cell_type": "code",
   "execution_count": 21,
   "id": "47f0f451",
   "metadata": {
    "execution": {
     "iopub.execute_input": "2023-04-20T20:14:35.812944Z",
     "iopub.status.busy": "2023-04-20T20:14:35.812305Z",
     "iopub.status.idle": "2023-04-20T20:14:35.820212Z",
     "shell.execute_reply": "2023-04-20T20:14:35.819112Z"
    },
    "papermill": {
     "duration": 0.023255,
     "end_time": "2023-04-20T20:14:35.822481",
     "exception": false,
     "start_time": "2023-04-20T20:14:35.799226",
     "status": "completed"
    },
    "tags": []
   },
   "outputs": [
    {
     "data": {
      "text/plain": [
       "(136, 9)"
      ]
     },
     "execution_count": 21,
     "metadata": {},
     "output_type": "execute_result"
    }
   ],
   "source": [
    "df[(df[\"potential_label\"] == \"below_average\")].shape"
   ]
  },
  {
   "cell_type": "code",
   "execution_count": 22,
   "id": "dbadde94",
   "metadata": {
    "execution": {
     "iopub.execute_input": "2023-04-20T20:14:35.848352Z",
     "iopub.status.busy": "2023-04-20T20:14:35.847683Z",
     "iopub.status.idle": "2023-04-20T20:14:35.854429Z",
     "shell.execute_reply": "2023-04-20T20:14:35.853461Z"
    },
    "papermill": {
     "duration": 0.022359,
     "end_time": "2023-04-20T20:14:35.856825",
     "exception": false,
     "start_time": "2023-04-20T20:14:35.834466",
     "status": "completed"
    },
    "tags": []
   },
   "outputs": [],
   "source": [
    "df = df[~(df[\"potential_label\"] == \"below_average\")]"
   ]
  },
  {
   "cell_type": "code",
   "execution_count": 23,
   "id": "f785a159",
   "metadata": {
    "execution": {
     "iopub.execute_input": "2023-04-20T20:14:35.883438Z",
     "iopub.status.busy": "2023-04-20T20:14:35.882784Z",
     "iopub.status.idle": "2023-04-20T20:14:35.914690Z",
     "shell.execute_reply": "2023-04-20T20:14:35.913291Z"
    },
    "papermill": {
     "duration": 0.048452,
     "end_time": "2023-04-20T20:14:35.917578",
     "exception": false,
     "start_time": "2023-04-20T20:14:35.869126",
     "status": "completed"
    },
    "tags": []
   },
   "outputs": [],
   "source": [
    "df_player = pd.pivot_table(data=df, values=\"attribute_value\", columns=\"attribute_id\", index = [\"player_id\",\"position_id\",\"potential_label\"]).reset_index()"
   ]
  },
  {
   "cell_type": "code",
   "execution_count": 24,
   "id": "a560333c",
   "metadata": {
    "execution": {
     "iopub.execute_input": "2023-04-20T20:14:35.943210Z",
     "iopub.status.busy": "2023-04-20T20:14:35.942740Z",
     "iopub.status.idle": "2023-04-20T20:14:35.969693Z",
     "shell.execute_reply": "2023-04-20T20:14:35.968566Z"
    },
    "papermill": {
     "duration": 0.042414,
     "end_time": "2023-04-20T20:14:35.972005",
     "exception": false,
     "start_time": "2023-04-20T20:14:35.929591",
     "status": "completed"
    },
    "tags": []
   },
   "outputs": [
    {
     "data": {
      "text/html": [
       "<div>\n",
       "<style scoped>\n",
       "    .dataframe tbody tr th:only-of-type {\n",
       "        vertical-align: middle;\n",
       "    }\n",
       "\n",
       "    .dataframe tbody tr th {\n",
       "        vertical-align: top;\n",
       "    }\n",
       "\n",
       "    .dataframe thead th {\n",
       "        text-align: right;\n",
       "    }\n",
       "</style>\n",
       "<table border=\"1\" class=\"dataframe\">\n",
       "  <thead>\n",
       "    <tr style=\"text-align: right;\">\n",
       "      <th>attribute_id</th>\n",
       "      <th>player_id</th>\n",
       "      <th>position_id</th>\n",
       "      <th>potential_label</th>\n",
       "      <th>4322</th>\n",
       "      <th>4323</th>\n",
       "      <th>4324</th>\n",
       "      <th>4325</th>\n",
       "      <th>4326</th>\n",
       "      <th>4327</th>\n",
       "      <th>4328</th>\n",
       "      <th>4329</th>\n",
       "      <th>4330</th>\n",
       "      <th>4332</th>\n",
       "      <th>4333</th>\n",
       "      <th>4335</th>\n",
       "      <th>4338</th>\n",
       "      <th>4339</th>\n",
       "      <th>4340</th>\n",
       "      <th>4341</th>\n",
       "      <th>4342</th>\n",
       "      <th>4343</th>\n",
       "      <th>4344</th>\n",
       "      <th>4345</th>\n",
       "      <th>4348</th>\n",
       "      <th>4349</th>\n",
       "      <th>4350</th>\n",
       "      <th>4351</th>\n",
       "      <th>4352</th>\n",
       "      <th>4353</th>\n",
       "      <th>4354</th>\n",
       "      <th>4355</th>\n",
       "      <th>4356</th>\n",
       "      <th>4357</th>\n",
       "      <th>4407</th>\n",
       "      <th>4408</th>\n",
       "      <th>4423</th>\n",
       "      <th>4426</th>\n",
       "    </tr>\n",
       "  </thead>\n",
       "  <tbody>\n",
       "    <tr>\n",
       "      <th>0</th>\n",
       "      <td>1355710</td>\n",
       "      <td>7</td>\n",
       "      <td>average</td>\n",
       "      <td>50.500</td>\n",
       "      <td>50.500</td>\n",
       "      <td>34.000</td>\n",
       "      <td>50.500</td>\n",
       "      <td>45.000</td>\n",
       "      <td>45.000</td>\n",
       "      <td>45.000</td>\n",
       "      <td>45.000</td>\n",
       "      <td>50.500</td>\n",
       "      <td>56.000</td>\n",
       "      <td>39.500</td>\n",
       "      <td>34.000</td>\n",
       "      <td>39.500</td>\n",
       "      <td>39.500</td>\n",
       "      <td>45.000</td>\n",
       "      <td>45.000</td>\n",
       "      <td>50.500</td>\n",
       "      <td>28.500</td>\n",
       "      <td>23.000</td>\n",
       "      <td>39.500</td>\n",
       "      <td>28.500</td>\n",
       "      <td>28.500</td>\n",
       "      <td>45.000</td>\n",
       "      <td>50.500</td>\n",
       "      <td>56.000</td>\n",
       "      <td>34.000</td>\n",
       "      <td>39.500</td>\n",
       "      <td>50.500</td>\n",
       "      <td>34.000</td>\n",
       "      <td>34.000</td>\n",
       "      <td>56.000</td>\n",
       "      <td>34.000</td>\n",
       "      <td>34.000</td>\n",
       "      <td>56.000</td>\n",
       "    </tr>\n",
       "    <tr>\n",
       "      <th>1</th>\n",
       "      <td>1356362</td>\n",
       "      <td>9</td>\n",
       "      <td>average</td>\n",
       "      <td>67.000</td>\n",
       "      <td>67.000</td>\n",
       "      <td>67.000</td>\n",
       "      <td>67.000</td>\n",
       "      <td>67.000</td>\n",
       "      <td>67.000</td>\n",
       "      <td>67.000</td>\n",
       "      <td>67.000</td>\n",
       "      <td>67.000</td>\n",
       "      <td>67.000</td>\n",
       "      <td>67.000</td>\n",
       "      <td>67.000</td>\n",
       "      <td>67.000</td>\n",
       "      <td>67.000</td>\n",
       "      <td>67.000</td>\n",
       "      <td>67.000</td>\n",
       "      <td>67.000</td>\n",
       "      <td>67.000</td>\n",
       "      <td>56.000</td>\n",
       "      <td>67.000</td>\n",
       "      <td>67.000</td>\n",
       "      <td>56.000</td>\n",
       "      <td>67.000</td>\n",
       "      <td>67.000</td>\n",
       "      <td>67.000</td>\n",
       "      <td>67.000</td>\n",
       "      <td>78.000</td>\n",
       "      <td>67.000</td>\n",
       "      <td>67.000</td>\n",
       "      <td>67.000</td>\n",
       "      <td>67.000</td>\n",
       "      <td>67.000</td>\n",
       "      <td>56.000</td>\n",
       "      <td>78.000</td>\n",
       "    </tr>\n",
       "    <tr>\n",
       "      <th>2</th>\n",
       "      <td>1356375</td>\n",
       "      <td>3</td>\n",
       "      <td>average</td>\n",
       "      <td>67.000</td>\n",
       "      <td>67.000</td>\n",
       "      <td>67.000</td>\n",
       "      <td>67.000</td>\n",
       "      <td>67.000</td>\n",
       "      <td>67.000</td>\n",
       "      <td>67.000</td>\n",
       "      <td>78.000</td>\n",
       "      <td>67.000</td>\n",
       "      <td>67.000</td>\n",
       "      <td>78.000</td>\n",
       "      <td>56.000</td>\n",
       "      <td>67.000</td>\n",
       "      <td>67.000</td>\n",
       "      <td>67.000</td>\n",
       "      <td>67.000</td>\n",
       "      <td>67.000</td>\n",
       "      <td>56.000</td>\n",
       "      <td>56.000</td>\n",
       "      <td>67.000</td>\n",
       "      <td>67.000</td>\n",
       "      <td>56.000</td>\n",
       "      <td>56.000</td>\n",
       "      <td>67.000</td>\n",
       "      <td>67.000</td>\n",
       "      <td>67.000</td>\n",
       "      <td>78.000</td>\n",
       "      <td>67.000</td>\n",
       "      <td>67.000</td>\n",
       "      <td>67.000</td>\n",
       "      <td>67.000</td>\n",
       "      <td>67.000</td>\n",
       "      <td>56.000</td>\n",
       "      <td>78.000</td>\n",
       "    </tr>\n",
       "    <tr>\n",
       "      <th>3</th>\n",
       "      <td>1356375</td>\n",
       "      <td>4</td>\n",
       "      <td>average</td>\n",
       "      <td>67.000</td>\n",
       "      <td>78.000</td>\n",
       "      <td>67.000</td>\n",
       "      <td>67.000</td>\n",
       "      <td>67.000</td>\n",
       "      <td>78.000</td>\n",
       "      <td>78.000</td>\n",
       "      <td>78.000</td>\n",
       "      <td>56.000</td>\n",
       "      <td>67.000</td>\n",
       "      <td>67.000</td>\n",
       "      <td>67.000</td>\n",
       "      <td>78.000</td>\n",
       "      <td>78.000</td>\n",
       "      <td>56.000</td>\n",
       "      <td>67.000</td>\n",
       "      <td>67.000</td>\n",
       "      <td>45.000</td>\n",
       "      <td>45.000</td>\n",
       "      <td>56.000</td>\n",
       "      <td>67.000</td>\n",
       "      <td>67.000</td>\n",
       "      <td>67.000</td>\n",
       "      <td>67.000</td>\n",
       "      <td>78.000</td>\n",
       "      <td>67.000</td>\n",
       "      <td>67.000</td>\n",
       "      <td>67.000</td>\n",
       "      <td>56.000</td>\n",
       "      <td>67.000</td>\n",
       "      <td>56.000</td>\n",
       "      <td>67.000</td>\n",
       "      <td>45.000</td>\n",
       "      <td>56.000</td>\n",
       "    </tr>\n",
       "    <tr>\n",
       "      <th>4</th>\n",
       "      <td>1356411</td>\n",
       "      <td>9</td>\n",
       "      <td>average</td>\n",
       "      <td>67.000</td>\n",
       "      <td>67.000</td>\n",
       "      <td>78.000</td>\n",
       "      <td>78.000</td>\n",
       "      <td>67.000</td>\n",
       "      <td>67.000</td>\n",
       "      <td>67.000</td>\n",
       "      <td>67.000</td>\n",
       "      <td>89.000</td>\n",
       "      <td>78.000</td>\n",
       "      <td>67.000</td>\n",
       "      <td>67.000</td>\n",
       "      <td>67.000</td>\n",
       "      <td>56.000</td>\n",
       "      <td>56.000</td>\n",
       "      <td>67.000</td>\n",
       "      <td>78.000</td>\n",
       "      <td>56.000</td>\n",
       "      <td>56.000</td>\n",
       "      <td>67.000</td>\n",
       "      <td>56.000</td>\n",
       "      <td>67.000</td>\n",
       "      <td>56.000</td>\n",
       "      <td>67.000</td>\n",
       "      <td>67.000</td>\n",
       "      <td>56.000</td>\n",
       "      <td>67.000</td>\n",
       "      <td>67.000</td>\n",
       "      <td>56.000</td>\n",
       "      <td>67.000</td>\n",
       "      <td>89.000</td>\n",
       "      <td>56.000</td>\n",
       "      <td>67.000</td>\n",
       "      <td>78.000</td>\n",
       "    </tr>\n",
       "  </tbody>\n",
       "</table>\n",
       "</div>"
      ],
      "text/plain": [
       "attribute_id  player_id  position_id potential_label   4322   4323   4324   4325   4326   4327   4328   4329   4330   4332   4333   4335   4338   4339   4340   4341   4342   4343   4344   4345   4348   4349   4350   4351   4352   4353   4354   4355   4356   4357   4407   4408   4423   4426\n",
       "0               1355710            7         average 50.500 50.500 34.000 50.500 45.000 45.000 45.000 45.000 50.500 56.000 39.500 34.000 39.500 39.500 45.000 45.000 50.500 28.500 23.000 39.500 28.500 28.500 45.000 50.500 56.000 34.000 39.500 50.500 34.000 34.000 56.000 34.000 34.000 56.000\n",
       "1               1356362            9         average 67.000 67.000 67.000 67.000 67.000 67.000 67.000 67.000 67.000 67.000 67.000 67.000 67.000 67.000 67.000 67.000 67.000 67.000 56.000 67.000 67.000 56.000 67.000 67.000 67.000 67.000 78.000 67.000 67.000 67.000 67.000 67.000 56.000 78.000\n",
       "2               1356375            3         average 67.000 67.000 67.000 67.000 67.000 67.000 67.000 78.000 67.000 67.000 78.000 56.000 67.000 67.000 67.000 67.000 67.000 56.000 56.000 67.000 67.000 56.000 56.000 67.000 67.000 67.000 78.000 67.000 67.000 67.000 67.000 67.000 56.000 78.000\n",
       "3               1356375            4         average 67.000 78.000 67.000 67.000 67.000 78.000 78.000 78.000 56.000 67.000 67.000 67.000 78.000 78.000 56.000 67.000 67.000 45.000 45.000 56.000 67.000 67.000 67.000 67.000 78.000 67.000 67.000 67.000 56.000 67.000 56.000 67.000 45.000 56.000\n",
       "4               1356411            9         average 67.000 67.000 78.000 78.000 67.000 67.000 67.000 67.000 89.000 78.000 67.000 67.000 67.000 56.000 56.000 67.000 78.000 56.000 56.000 67.000 56.000 67.000 56.000 67.000 67.000 56.000 67.000 67.000 56.000 67.000 89.000 56.000 67.000 78.000"
      ]
     },
     "execution_count": 24,
     "metadata": {},
     "output_type": "execute_result"
    }
   ],
   "source": [
    "df_player.head()"
   ]
  },
  {
   "cell_type": "code",
   "execution_count": 25,
   "id": "c738672b",
   "metadata": {
    "execution": {
     "iopub.execute_input": "2023-04-20T20:14:35.997993Z",
     "iopub.status.busy": "2023-04-20T20:14:35.997569Z",
     "iopub.status.idle": "2023-04-20T20:14:36.003686Z",
     "shell.execute_reply": "2023-04-20T20:14:36.002239Z"
    },
    "papermill": {
     "duration": 0.021807,
     "end_time": "2023-04-20T20:14:36.006100",
     "exception": false,
     "start_time": "2023-04-20T20:14:35.984293",
     "status": "completed"
    },
    "tags": []
   },
   "outputs": [],
   "source": [
    "df_player.columns = df_player.columns.astype(str)"
   ]
  },
  {
   "cell_type": "code",
   "execution_count": 26,
   "id": "58d7cd9b",
   "metadata": {
    "execution": {
     "iopub.execute_input": "2023-04-20T20:14:36.032371Z",
     "iopub.status.busy": "2023-04-20T20:14:36.031947Z",
     "iopub.status.idle": "2023-04-20T20:14:36.037670Z",
     "shell.execute_reply": "2023-04-20T20:14:36.036279Z"
    },
    "papermill": {
     "duration": 0.022122,
     "end_time": "2023-04-20T20:14:36.040425",
     "exception": false,
     "start_time": "2023-04-20T20:14:36.018303",
     "status": "completed"
    },
    "tags": []
   },
   "outputs": [],
   "source": [
    "def label_encoder(dataframe, col):\n",
    "    labelencoder = LabelEncoder()\n",
    "    dataframe[col] = labelencoder.fit_transform(dataframe[col])\n",
    "    return dataframe"
   ]
  },
  {
   "cell_type": "code",
   "execution_count": 27,
   "id": "4be57588",
   "metadata": {
    "execution": {
     "iopub.execute_input": "2023-04-20T20:14:36.067126Z",
     "iopub.status.busy": "2023-04-20T20:14:36.066714Z",
     "iopub.status.idle": "2023-04-20T20:14:36.072016Z",
     "shell.execute_reply": "2023-04-20T20:14:36.070837Z"
    },
    "papermill": {
     "duration": 0.021675,
     "end_time": "2023-04-20T20:14:36.074315",
     "exception": false,
     "start_time": "2023-04-20T20:14:36.052640",
     "status": "completed"
    },
    "tags": []
   },
   "outputs": [],
   "source": [
    "df_player = label_encoder(df_player,\"potential_label\")"
   ]
  },
  {
   "cell_type": "code",
   "execution_count": 28,
   "id": "fbf1792a",
   "metadata": {
    "execution": {
     "iopub.execute_input": "2023-04-20T20:14:36.100745Z",
     "iopub.status.busy": "2023-04-20T20:14:36.100077Z",
     "iopub.status.idle": "2023-04-20T20:14:36.124962Z",
     "shell.execute_reply": "2023-04-20T20:14:36.123744Z"
    },
    "papermill": {
     "duration": 0.041068,
     "end_time": "2023-04-20T20:14:36.127427",
     "exception": false,
     "start_time": "2023-04-20T20:14:36.086359",
     "status": "completed"
    },
    "tags": []
   },
   "outputs": [
    {
     "data": {
      "text/html": [
       "<div>\n",
       "<style scoped>\n",
       "    .dataframe tbody tr th:only-of-type {\n",
       "        vertical-align: middle;\n",
       "    }\n",
       "\n",
       "    .dataframe tbody tr th {\n",
       "        vertical-align: top;\n",
       "    }\n",
       "\n",
       "    .dataframe thead th {\n",
       "        text-align: right;\n",
       "    }\n",
       "</style>\n",
       "<table border=\"1\" class=\"dataframe\">\n",
       "  <thead>\n",
       "    <tr style=\"text-align: right;\">\n",
       "      <th>attribute_id</th>\n",
       "      <th>player_id</th>\n",
       "      <th>position_id</th>\n",
       "      <th>potential_label</th>\n",
       "      <th>4322</th>\n",
       "      <th>4323</th>\n",
       "      <th>4324</th>\n",
       "      <th>4325</th>\n",
       "      <th>4326</th>\n",
       "      <th>4327</th>\n",
       "      <th>4328</th>\n",
       "      <th>4329</th>\n",
       "      <th>4330</th>\n",
       "      <th>4332</th>\n",
       "      <th>4333</th>\n",
       "      <th>4335</th>\n",
       "      <th>4338</th>\n",
       "      <th>4339</th>\n",
       "      <th>4340</th>\n",
       "      <th>4341</th>\n",
       "      <th>4342</th>\n",
       "      <th>4343</th>\n",
       "      <th>4344</th>\n",
       "      <th>4345</th>\n",
       "      <th>4348</th>\n",
       "      <th>4349</th>\n",
       "      <th>4350</th>\n",
       "      <th>4351</th>\n",
       "      <th>4352</th>\n",
       "      <th>4353</th>\n",
       "      <th>4354</th>\n",
       "      <th>4355</th>\n",
       "      <th>4356</th>\n",
       "      <th>4357</th>\n",
       "      <th>4407</th>\n",
       "      <th>4408</th>\n",
       "      <th>4423</th>\n",
       "      <th>4426</th>\n",
       "    </tr>\n",
       "  </thead>\n",
       "  <tbody>\n",
       "    <tr>\n",
       "      <th>0</th>\n",
       "      <td>1355710</td>\n",
       "      <td>7</td>\n",
       "      <td>0</td>\n",
       "      <td>50.500</td>\n",
       "      <td>50.500</td>\n",
       "      <td>34.000</td>\n",
       "      <td>50.500</td>\n",
       "      <td>45.000</td>\n",
       "      <td>45.000</td>\n",
       "      <td>45.000</td>\n",
       "      <td>45.000</td>\n",
       "      <td>50.500</td>\n",
       "      <td>56.000</td>\n",
       "      <td>39.500</td>\n",
       "      <td>34.000</td>\n",
       "      <td>39.500</td>\n",
       "      <td>39.500</td>\n",
       "      <td>45.000</td>\n",
       "      <td>45.000</td>\n",
       "      <td>50.500</td>\n",
       "      <td>28.500</td>\n",
       "      <td>23.000</td>\n",
       "      <td>39.500</td>\n",
       "      <td>28.500</td>\n",
       "      <td>28.500</td>\n",
       "      <td>45.000</td>\n",
       "      <td>50.500</td>\n",
       "      <td>56.000</td>\n",
       "      <td>34.000</td>\n",
       "      <td>39.500</td>\n",
       "      <td>50.500</td>\n",
       "      <td>34.000</td>\n",
       "      <td>34.000</td>\n",
       "      <td>56.000</td>\n",
       "      <td>34.000</td>\n",
       "      <td>34.000</td>\n",
       "      <td>56.000</td>\n",
       "    </tr>\n",
       "    <tr>\n",
       "      <th>1</th>\n",
       "      <td>1356362</td>\n",
       "      <td>9</td>\n",
       "      <td>0</td>\n",
       "      <td>67.000</td>\n",
       "      <td>67.000</td>\n",
       "      <td>67.000</td>\n",
       "      <td>67.000</td>\n",
       "      <td>67.000</td>\n",
       "      <td>67.000</td>\n",
       "      <td>67.000</td>\n",
       "      <td>67.000</td>\n",
       "      <td>67.000</td>\n",
       "      <td>67.000</td>\n",
       "      <td>67.000</td>\n",
       "      <td>67.000</td>\n",
       "      <td>67.000</td>\n",
       "      <td>67.000</td>\n",
       "      <td>67.000</td>\n",
       "      <td>67.000</td>\n",
       "      <td>67.000</td>\n",
       "      <td>67.000</td>\n",
       "      <td>56.000</td>\n",
       "      <td>67.000</td>\n",
       "      <td>67.000</td>\n",
       "      <td>56.000</td>\n",
       "      <td>67.000</td>\n",
       "      <td>67.000</td>\n",
       "      <td>67.000</td>\n",
       "      <td>67.000</td>\n",
       "      <td>78.000</td>\n",
       "      <td>67.000</td>\n",
       "      <td>67.000</td>\n",
       "      <td>67.000</td>\n",
       "      <td>67.000</td>\n",
       "      <td>67.000</td>\n",
       "      <td>56.000</td>\n",
       "      <td>78.000</td>\n",
       "    </tr>\n",
       "    <tr>\n",
       "      <th>2</th>\n",
       "      <td>1356375</td>\n",
       "      <td>3</td>\n",
       "      <td>0</td>\n",
       "      <td>67.000</td>\n",
       "      <td>67.000</td>\n",
       "      <td>67.000</td>\n",
       "      <td>67.000</td>\n",
       "      <td>67.000</td>\n",
       "      <td>67.000</td>\n",
       "      <td>67.000</td>\n",
       "      <td>78.000</td>\n",
       "      <td>67.000</td>\n",
       "      <td>67.000</td>\n",
       "      <td>78.000</td>\n",
       "      <td>56.000</td>\n",
       "      <td>67.000</td>\n",
       "      <td>67.000</td>\n",
       "      <td>67.000</td>\n",
       "      <td>67.000</td>\n",
       "      <td>67.000</td>\n",
       "      <td>56.000</td>\n",
       "      <td>56.000</td>\n",
       "      <td>67.000</td>\n",
       "      <td>67.000</td>\n",
       "      <td>56.000</td>\n",
       "      <td>56.000</td>\n",
       "      <td>67.000</td>\n",
       "      <td>67.000</td>\n",
       "      <td>67.000</td>\n",
       "      <td>78.000</td>\n",
       "      <td>67.000</td>\n",
       "      <td>67.000</td>\n",
       "      <td>67.000</td>\n",
       "      <td>67.000</td>\n",
       "      <td>67.000</td>\n",
       "      <td>56.000</td>\n",
       "      <td>78.000</td>\n",
       "    </tr>\n",
       "    <tr>\n",
       "      <th>3</th>\n",
       "      <td>1356375</td>\n",
       "      <td>4</td>\n",
       "      <td>0</td>\n",
       "      <td>67.000</td>\n",
       "      <td>78.000</td>\n",
       "      <td>67.000</td>\n",
       "      <td>67.000</td>\n",
       "      <td>67.000</td>\n",
       "      <td>78.000</td>\n",
       "      <td>78.000</td>\n",
       "      <td>78.000</td>\n",
       "      <td>56.000</td>\n",
       "      <td>67.000</td>\n",
       "      <td>67.000</td>\n",
       "      <td>67.000</td>\n",
       "      <td>78.000</td>\n",
       "      <td>78.000</td>\n",
       "      <td>56.000</td>\n",
       "      <td>67.000</td>\n",
       "      <td>67.000</td>\n",
       "      <td>45.000</td>\n",
       "      <td>45.000</td>\n",
       "      <td>56.000</td>\n",
       "      <td>67.000</td>\n",
       "      <td>67.000</td>\n",
       "      <td>67.000</td>\n",
       "      <td>67.000</td>\n",
       "      <td>78.000</td>\n",
       "      <td>67.000</td>\n",
       "      <td>67.000</td>\n",
       "      <td>67.000</td>\n",
       "      <td>56.000</td>\n",
       "      <td>67.000</td>\n",
       "      <td>56.000</td>\n",
       "      <td>67.000</td>\n",
       "      <td>45.000</td>\n",
       "      <td>56.000</td>\n",
       "    </tr>\n",
       "    <tr>\n",
       "      <th>4</th>\n",
       "      <td>1356411</td>\n",
       "      <td>9</td>\n",
       "      <td>0</td>\n",
       "      <td>67.000</td>\n",
       "      <td>67.000</td>\n",
       "      <td>78.000</td>\n",
       "      <td>78.000</td>\n",
       "      <td>67.000</td>\n",
       "      <td>67.000</td>\n",
       "      <td>67.000</td>\n",
       "      <td>67.000</td>\n",
       "      <td>89.000</td>\n",
       "      <td>78.000</td>\n",
       "      <td>67.000</td>\n",
       "      <td>67.000</td>\n",
       "      <td>67.000</td>\n",
       "      <td>56.000</td>\n",
       "      <td>56.000</td>\n",
       "      <td>67.000</td>\n",
       "      <td>78.000</td>\n",
       "      <td>56.000</td>\n",
       "      <td>56.000</td>\n",
       "      <td>67.000</td>\n",
       "      <td>56.000</td>\n",
       "      <td>67.000</td>\n",
       "      <td>56.000</td>\n",
       "      <td>67.000</td>\n",
       "      <td>67.000</td>\n",
       "      <td>56.000</td>\n",
       "      <td>67.000</td>\n",
       "      <td>67.000</td>\n",
       "      <td>56.000</td>\n",
       "      <td>67.000</td>\n",
       "      <td>89.000</td>\n",
       "      <td>56.000</td>\n",
       "      <td>67.000</td>\n",
       "      <td>78.000</td>\n",
       "    </tr>\n",
       "  </tbody>\n",
       "</table>\n",
       "</div>"
      ],
      "text/plain": [
       "attribute_id  player_id  position_id  potential_label   4322   4323   4324   4325   4326   4327   4328   4329   4330   4332   4333   4335   4338   4339   4340   4341   4342   4343   4344   4345   4348   4349   4350   4351   4352   4353   4354   4355   4356   4357   4407   4408   4423   4426\n",
       "0               1355710            7                0 50.500 50.500 34.000 50.500 45.000 45.000 45.000 45.000 50.500 56.000 39.500 34.000 39.500 39.500 45.000 45.000 50.500 28.500 23.000 39.500 28.500 28.500 45.000 50.500 56.000 34.000 39.500 50.500 34.000 34.000 56.000 34.000 34.000 56.000\n",
       "1               1356362            9                0 67.000 67.000 67.000 67.000 67.000 67.000 67.000 67.000 67.000 67.000 67.000 67.000 67.000 67.000 67.000 67.000 67.000 67.000 56.000 67.000 67.000 56.000 67.000 67.000 67.000 67.000 78.000 67.000 67.000 67.000 67.000 67.000 56.000 78.000\n",
       "2               1356375            3                0 67.000 67.000 67.000 67.000 67.000 67.000 67.000 78.000 67.000 67.000 78.000 56.000 67.000 67.000 67.000 67.000 67.000 56.000 56.000 67.000 67.000 56.000 56.000 67.000 67.000 67.000 78.000 67.000 67.000 67.000 67.000 67.000 56.000 78.000\n",
       "3               1356375            4                0 67.000 78.000 67.000 67.000 67.000 78.000 78.000 78.000 56.000 67.000 67.000 67.000 78.000 78.000 56.000 67.000 67.000 45.000 45.000 56.000 67.000 67.000 67.000 67.000 78.000 67.000 67.000 67.000 56.000 67.000 56.000 67.000 45.000 56.000\n",
       "4               1356411            9                0 67.000 67.000 78.000 78.000 67.000 67.000 67.000 67.000 89.000 78.000 67.000 67.000 67.000 56.000 56.000 67.000 78.000 56.000 56.000 67.000 56.000 67.000 56.000 67.000 67.000 56.000 67.000 67.000 56.000 67.000 89.000 56.000 67.000 78.000"
      ]
     },
     "execution_count": 28,
     "metadata": {},
     "output_type": "execute_result"
    }
   ],
   "source": [
    "df_player.head()"
   ]
  },
  {
   "cell_type": "code",
   "execution_count": 29,
   "id": "a0bd215f",
   "metadata": {
    "execution": {
     "iopub.execute_input": "2023-04-20T20:14:36.154515Z",
     "iopub.status.busy": "2023-04-20T20:14:36.154080Z",
     "iopub.status.idle": "2023-04-20T20:14:36.159456Z",
     "shell.execute_reply": "2023-04-20T20:14:36.158170Z"
    },
    "papermill": {
     "duration": 0.021924,
     "end_time": "2023-04-20T20:14:36.161852",
     "exception": false,
     "start_time": "2023-04-20T20:14:36.139928",
     "status": "completed"
    },
    "tags": []
   },
   "outputs": [],
   "source": [
    "num_cols = df_player.columns.to_list()\n",
    "for i in range(3):\n",
    "    num_cols.pop(0)"
   ]
  },
  {
   "cell_type": "code",
   "execution_count": 30,
   "id": "bce03e5f",
   "metadata": {
    "execution": {
     "iopub.execute_input": "2023-04-20T20:14:36.189195Z",
     "iopub.status.busy": "2023-04-20T20:14:36.188741Z",
     "iopub.status.idle": "2023-04-20T20:14:36.197020Z",
     "shell.execute_reply": "2023-04-20T20:14:36.195664Z"
    },
    "papermill": {
     "duration": 0.024584,
     "end_time": "2023-04-20T20:14:36.199404",
     "exception": false,
     "start_time": "2023-04-20T20:14:36.174820",
     "status": "completed"
    },
    "tags": []
   },
   "outputs": [
    {
     "data": {
      "text/plain": [
       "['4322',\n",
       " '4323',\n",
       " '4324',\n",
       " '4325',\n",
       " '4326',\n",
       " '4327',\n",
       " '4328',\n",
       " '4329',\n",
       " '4330',\n",
       " '4332',\n",
       " '4333',\n",
       " '4335',\n",
       " '4338',\n",
       " '4339',\n",
       " '4340',\n",
       " '4341',\n",
       " '4342',\n",
       " '4343',\n",
       " '4344',\n",
       " '4345',\n",
       " '4348',\n",
       " '4349',\n",
       " '4350',\n",
       " '4351',\n",
       " '4352',\n",
       " '4353',\n",
       " '4354',\n",
       " '4355',\n",
       " '4356',\n",
       " '4357',\n",
       " '4407',\n",
       " '4408',\n",
       " '4423',\n",
       " '4426']"
      ]
     },
     "execution_count": 30,
     "metadata": {},
     "output_type": "execute_result"
    }
   ],
   "source": [
    "num_cols"
   ]
  },
  {
   "cell_type": "code",
   "execution_count": 31,
   "id": "e86f1cd0",
   "metadata": {
    "execution": {
     "iopub.execute_input": "2023-04-20T20:14:36.227267Z",
     "iopub.status.busy": "2023-04-20T20:14:36.226860Z",
     "iopub.status.idle": "2023-04-20T20:14:36.240696Z",
     "shell.execute_reply": "2023-04-20T20:14:36.239459Z"
    },
    "papermill": {
     "duration": 0.030544,
     "end_time": "2023-04-20T20:14:36.243431",
     "exception": false,
     "start_time": "2023-04-20T20:14:36.212887",
     "status": "completed"
    },
    "tags": []
   },
   "outputs": [],
   "source": [
    "df_player[num_cols] = StandardScaler().fit_transform(df_player[num_cols])"
   ]
  },
  {
   "cell_type": "code",
   "execution_count": 32,
   "id": "8c82fb43",
   "metadata": {
    "execution": {
     "iopub.execute_input": "2023-04-20T20:14:36.271486Z",
     "iopub.status.busy": "2023-04-20T20:14:36.271052Z",
     "iopub.status.idle": "2023-04-20T20:14:36.297464Z",
     "shell.execute_reply": "2023-04-20T20:14:36.296276Z"
    },
    "papermill": {
     "duration": 0.043129,
     "end_time": "2023-04-20T20:14:36.299789",
     "exception": false,
     "start_time": "2023-04-20T20:14:36.256660",
     "status": "completed"
    },
    "tags": []
   },
   "outputs": [
    {
     "data": {
      "text/html": [
       "<div>\n",
       "<style scoped>\n",
       "    .dataframe tbody tr th:only-of-type {\n",
       "        vertical-align: middle;\n",
       "    }\n",
       "\n",
       "    .dataframe tbody tr th {\n",
       "        vertical-align: top;\n",
       "    }\n",
       "\n",
       "    .dataframe thead th {\n",
       "        text-align: right;\n",
       "    }\n",
       "</style>\n",
       "<table border=\"1\" class=\"dataframe\">\n",
       "  <thead>\n",
       "    <tr style=\"text-align: right;\">\n",
       "      <th>attribute_id</th>\n",
       "      <th>player_id</th>\n",
       "      <th>position_id</th>\n",
       "      <th>potential_label</th>\n",
       "      <th>4322</th>\n",
       "      <th>4323</th>\n",
       "      <th>4324</th>\n",
       "      <th>4325</th>\n",
       "      <th>4326</th>\n",
       "      <th>4327</th>\n",
       "      <th>4328</th>\n",
       "      <th>4329</th>\n",
       "      <th>4330</th>\n",
       "      <th>4332</th>\n",
       "      <th>4333</th>\n",
       "      <th>4335</th>\n",
       "      <th>4338</th>\n",
       "      <th>4339</th>\n",
       "      <th>4340</th>\n",
       "      <th>4341</th>\n",
       "      <th>4342</th>\n",
       "      <th>4343</th>\n",
       "      <th>4344</th>\n",
       "      <th>4345</th>\n",
       "      <th>4348</th>\n",
       "      <th>4349</th>\n",
       "      <th>4350</th>\n",
       "      <th>4351</th>\n",
       "      <th>4352</th>\n",
       "      <th>4353</th>\n",
       "      <th>4354</th>\n",
       "      <th>4355</th>\n",
       "      <th>4356</th>\n",
       "      <th>4357</th>\n",
       "      <th>4407</th>\n",
       "      <th>4408</th>\n",
       "      <th>4423</th>\n",
       "      <th>4426</th>\n",
       "    </tr>\n",
       "  </thead>\n",
       "  <tbody>\n",
       "    <tr>\n",
       "      <th>0</th>\n",
       "      <td>1355710</td>\n",
       "      <td>7</td>\n",
       "      <td>0</td>\n",
       "      <td>-0.543</td>\n",
       "      <td>-0.559</td>\n",
       "      <td>-1.405</td>\n",
       "      <td>-0.438</td>\n",
       "      <td>-0.767</td>\n",
       "      <td>-0.795</td>\n",
       "      <td>-0.907</td>\n",
       "      <td>-0.792</td>\n",
       "      <td>-0.446</td>\n",
       "      <td>-0.123</td>\n",
       "      <td>-1.224</td>\n",
       "      <td>-1.036</td>\n",
       "      <td>-1.126</td>\n",
       "      <td>-1.009</td>\n",
       "      <td>-0.542</td>\n",
       "      <td>-0.690</td>\n",
       "      <td>-0.535</td>\n",
       "      <td>-1.067</td>\n",
       "      <td>-1.206</td>\n",
       "      <td>-1.005</td>\n",
       "      <td>-1.314</td>\n",
       "      <td>-1.042</td>\n",
       "      <td>-0.693</td>\n",
       "      <td>-0.436</td>\n",
       "      <td>0.013</td>\n",
       "      <td>-1.282</td>\n",
       "      <td>-1.132</td>\n",
       "      <td>-0.495</td>\n",
       "      <td>-1.235</td>\n",
       "      <td>-1.520</td>\n",
       "      <td>-0.143</td>\n",
       "      <td>-1.487</td>\n",
       "      <td>-0.955</td>\n",
       "      <td>-0.253</td>\n",
       "    </tr>\n",
       "    <tr>\n",
       "      <th>1</th>\n",
       "      <td>1356362</td>\n",
       "      <td>9</td>\n",
       "      <td>0</td>\n",
       "      <td>0.595</td>\n",
       "      <td>0.561</td>\n",
       "      <td>0.679</td>\n",
       "      <td>0.683</td>\n",
       "      <td>0.723</td>\n",
       "      <td>0.723</td>\n",
       "      <td>0.601</td>\n",
       "      <td>0.404</td>\n",
       "      <td>0.728</td>\n",
       "      <td>0.691</td>\n",
       "      <td>0.459</td>\n",
       "      <td>0.996</td>\n",
       "      <td>0.632</td>\n",
       "      <td>0.840</td>\n",
       "      <td>0.912</td>\n",
       "      <td>0.799</td>\n",
       "      <td>0.588</td>\n",
       "      <td>1.230</td>\n",
       "      <td>0.750</td>\n",
       "      <td>0.742</td>\n",
       "      <td>0.879</td>\n",
       "      <td>0.670</td>\n",
       "      <td>0.848</td>\n",
       "      <td>0.717</td>\n",
       "      <td>0.787</td>\n",
       "      <td>0.814</td>\n",
       "      <td>1.053</td>\n",
       "      <td>0.632</td>\n",
       "      <td>0.915</td>\n",
       "      <td>0.768</td>\n",
       "      <td>0.530</td>\n",
       "      <td>0.669</td>\n",
       "      <td>0.404</td>\n",
       "      <td>1.042</td>\n",
       "    </tr>\n",
       "    <tr>\n",
       "      <th>2</th>\n",
       "      <td>1356375</td>\n",
       "      <td>3</td>\n",
       "      <td>0</td>\n",
       "      <td>0.595</td>\n",
       "      <td>0.561</td>\n",
       "      <td>0.679</td>\n",
       "      <td>0.683</td>\n",
       "      <td>0.723</td>\n",
       "      <td>0.723</td>\n",
       "      <td>0.601</td>\n",
       "      <td>1.002</td>\n",
       "      <td>0.728</td>\n",
       "      <td>0.691</td>\n",
       "      <td>1.132</td>\n",
       "      <td>0.319</td>\n",
       "      <td>0.632</td>\n",
       "      <td>0.840</td>\n",
       "      <td>0.912</td>\n",
       "      <td>0.799</td>\n",
       "      <td>0.588</td>\n",
       "      <td>0.574</td>\n",
       "      <td>0.750</td>\n",
       "      <td>0.742</td>\n",
       "      <td>0.879</td>\n",
       "      <td>0.670</td>\n",
       "      <td>0.077</td>\n",
       "      <td>0.717</td>\n",
       "      <td>0.787</td>\n",
       "      <td>0.814</td>\n",
       "      <td>1.053</td>\n",
       "      <td>0.632</td>\n",
       "      <td>0.915</td>\n",
       "      <td>0.768</td>\n",
       "      <td>0.530</td>\n",
       "      <td>0.669</td>\n",
       "      <td>0.404</td>\n",
       "      <td>1.042</td>\n",
       "    </tr>\n",
       "    <tr>\n",
       "      <th>3</th>\n",
       "      <td>1356375</td>\n",
       "      <td>4</td>\n",
       "      <td>0</td>\n",
       "      <td>0.595</td>\n",
       "      <td>1.308</td>\n",
       "      <td>0.679</td>\n",
       "      <td>0.683</td>\n",
       "      <td>0.723</td>\n",
       "      <td>1.482</td>\n",
       "      <td>1.355</td>\n",
       "      <td>1.002</td>\n",
       "      <td>-0.055</td>\n",
       "      <td>0.691</td>\n",
       "      <td>0.459</td>\n",
       "      <td>0.996</td>\n",
       "      <td>1.335</td>\n",
       "      <td>1.580</td>\n",
       "      <td>0.185</td>\n",
       "      <td>0.799</td>\n",
       "      <td>0.588</td>\n",
       "      <td>-0.083</td>\n",
       "      <td>0.098</td>\n",
       "      <td>0.043</td>\n",
       "      <td>0.879</td>\n",
       "      <td>1.355</td>\n",
       "      <td>0.848</td>\n",
       "      <td>0.717</td>\n",
       "      <td>1.560</td>\n",
       "      <td>0.814</td>\n",
       "      <td>0.428</td>\n",
       "      <td>0.632</td>\n",
       "      <td>0.198</td>\n",
       "      <td>0.768</td>\n",
       "      <td>-0.143</td>\n",
       "      <td>0.669</td>\n",
       "      <td>-0.276</td>\n",
       "      <td>-0.253</td>\n",
       "    </tr>\n",
       "    <tr>\n",
       "      <th>4</th>\n",
       "      <td>1356411</td>\n",
       "      <td>9</td>\n",
       "      <td>0</td>\n",
       "      <td>0.595</td>\n",
       "      <td>0.561</td>\n",
       "      <td>1.373</td>\n",
       "      <td>1.430</td>\n",
       "      <td>0.723</td>\n",
       "      <td>0.723</td>\n",
       "      <td>0.601</td>\n",
       "      <td>0.404</td>\n",
       "      <td>2.294</td>\n",
       "      <td>1.505</td>\n",
       "      <td>0.459</td>\n",
       "      <td>0.996</td>\n",
       "      <td>0.632</td>\n",
       "      <td>0.101</td>\n",
       "      <td>0.185</td>\n",
       "      <td>0.799</td>\n",
       "      <td>1.337</td>\n",
       "      <td>0.574</td>\n",
       "      <td>0.750</td>\n",
       "      <td>0.742</td>\n",
       "      <td>0.252</td>\n",
       "      <td>1.355</td>\n",
       "      <td>0.077</td>\n",
       "      <td>0.717</td>\n",
       "      <td>0.787</td>\n",
       "      <td>0.115</td>\n",
       "      <td>0.428</td>\n",
       "      <td>0.632</td>\n",
       "      <td>0.198</td>\n",
       "      <td>0.768</td>\n",
       "      <td>1.874</td>\n",
       "      <td>-0.050</td>\n",
       "      <td>1.083</td>\n",
       "      <td>1.042</td>\n",
       "    </tr>\n",
       "  </tbody>\n",
       "</table>\n",
       "</div>"
      ],
      "text/plain": [
       "attribute_id  player_id  position_id  potential_label   4322   4323   4324   4325   4326   4327   4328   4329   4330   4332   4333   4335   4338   4339   4340   4341   4342   4343   4344   4345   4348   4349   4350   4351  4352   4353   4354   4355   4356   4357   4407   4408   4423   4426\n",
       "0               1355710            7                0 -0.543 -0.559 -1.405 -0.438 -0.767 -0.795 -0.907 -0.792 -0.446 -0.123 -1.224 -1.036 -1.126 -1.009 -0.542 -0.690 -0.535 -1.067 -1.206 -1.005 -1.314 -1.042 -0.693 -0.436 0.013 -1.282 -1.132 -0.495 -1.235 -1.520 -0.143 -1.487 -0.955 -0.253\n",
       "1               1356362            9                0  0.595  0.561  0.679  0.683  0.723  0.723  0.601  0.404  0.728  0.691  0.459  0.996  0.632  0.840  0.912  0.799  0.588  1.230  0.750  0.742  0.879  0.670  0.848  0.717 0.787  0.814  1.053  0.632  0.915  0.768  0.530  0.669  0.404  1.042\n",
       "2               1356375            3                0  0.595  0.561  0.679  0.683  0.723  0.723  0.601  1.002  0.728  0.691  1.132  0.319  0.632  0.840  0.912  0.799  0.588  0.574  0.750  0.742  0.879  0.670  0.077  0.717 0.787  0.814  1.053  0.632  0.915  0.768  0.530  0.669  0.404  1.042\n",
       "3               1356375            4                0  0.595  1.308  0.679  0.683  0.723  1.482  1.355  1.002 -0.055  0.691  0.459  0.996  1.335  1.580  0.185  0.799  0.588 -0.083  0.098  0.043  0.879  1.355  0.848  0.717 1.560  0.814  0.428  0.632  0.198  0.768 -0.143  0.669 -0.276 -0.253\n",
       "4               1356411            9                0  0.595  0.561  1.373  1.430  0.723  0.723  0.601  0.404  2.294  1.505  0.459  0.996  0.632  0.101  0.185  0.799  1.337  0.574  0.750  0.742  0.252  1.355  0.077  0.717 0.787  0.115  0.428  0.632  0.198  0.768  1.874 -0.050  1.083  1.042"
      ]
     },
     "execution_count": 32,
     "metadata": {},
     "output_type": "execute_result"
    }
   ],
   "source": [
    "df_player.head()"
   ]
  },
  {
   "cell_type": "code",
   "execution_count": 33,
   "id": "7fbf2fdb",
   "metadata": {
    "execution": {
     "iopub.execute_input": "2023-04-20T20:14:36.327298Z",
     "iopub.status.busy": "2023-04-20T20:14:36.326916Z",
     "iopub.status.idle": "2023-04-20T20:14:36.333514Z",
     "shell.execute_reply": "2023-04-20T20:14:36.332405Z"
    },
    "papermill": {
     "duration": 0.022937,
     "end_time": "2023-04-20T20:14:36.335875",
     "exception": false,
     "start_time": "2023-04-20T20:14:36.312938",
     "status": "completed"
    },
    "tags": []
   },
   "outputs": [],
   "source": [
    "X = df_player.drop([\"player_id\", \"position_id\", \"potential_label\"], axis=1)\n",
    "y = df_player[\"potential_label\"]"
   ]
  },
  {
   "cell_type": "code",
   "execution_count": 34,
   "id": "ec78dac0",
   "metadata": {
    "execution": {
     "iopub.execute_input": "2023-04-20T20:14:36.363728Z",
     "iopub.status.busy": "2023-04-20T20:14:36.363339Z",
     "iopub.status.idle": "2023-04-20T20:14:36.370926Z",
     "shell.execute_reply": "2023-04-20T20:14:36.369739Z"
    },
    "papermill": {
     "duration": 0.024166,
     "end_time": "2023-04-20T20:14:36.373168",
     "exception": false,
     "start_time": "2023-04-20T20:14:36.349002",
     "status": "completed"
    },
    "tags": []
   },
   "outputs": [],
   "source": [
    "X_train, X_test, y_train, y_test = train_test_split(X, y, test_size=0.20,random_state=42)"
   ]
  },
  {
   "cell_type": "code",
   "execution_count": 35,
   "id": "0e10d3de",
   "metadata": {
    "execution": {
     "iopub.execute_input": "2023-04-20T20:14:36.400692Z",
     "iopub.status.busy": "2023-04-20T20:14:36.400304Z",
     "iopub.status.idle": "2023-04-20T20:14:36.410149Z",
     "shell.execute_reply": "2023-04-20T20:14:36.408850Z"
    },
    "papermill": {
     "duration": 0.02638,
     "end_time": "2023-04-20T20:14:36.412470",
     "exception": false,
     "start_time": "2023-04-20T20:14:36.386090",
     "status": "completed"
    },
    "tags": []
   },
   "outputs": [],
   "source": [
    "models = [('KNN', KNeighborsClassifier()),\n",
    "          ('CART',DecisionTreeClassifier()),\n",
    "          ('RF',RandomForestClassifier()),\n",
    "          ('GBM',GradientBoostingClassifier()),\n",
    "          ('XGBoost',XGBClassifier()),\n",
    "          ('CatBoost',CatBoostClassifier(verbose=False)),\n",
    "          (\"LightGBM\", LGBMClassifier())]"
   ]
  },
  {
   "cell_type": "code",
   "execution_count": 36,
   "id": "db6b2894",
   "metadata": {
    "execution": {
     "iopub.execute_input": "2023-04-20T20:14:36.440549Z",
     "iopub.status.busy": "2023-04-20T20:14:36.440148Z",
     "iopub.status.idle": "2023-04-20T20:14:45.564675Z",
     "shell.execute_reply": "2023-04-20T20:14:45.563619Z"
    },
    "papermill": {
     "duration": 9.142099,
     "end_time": "2023-04-20T20:14:45.567608",
     "exception": false,
     "start_time": "2023-04-20T20:14:36.425509",
     "status": "completed"
    },
    "tags": []
   },
   "outputs": [
    {
     "name": "stdout",
     "output_type": "stream",
     "text": [
      "\u001b[1m------------ KNN -------------\u001b[0m\n",
      "Accuracy: 0.8523232323232325\n",
      "F1 Score: 0.4656841198017669\n",
      "ROC AUC Score: 0.8051268498942917\n",
      "\n",
      "\n",
      "\u001b[1m------------ CART ------------\u001b[0m\n",
      "Accuracy: 0.8157575757575757\n",
      "F1 Score: 0.5986335403726708\n",
      "ROC AUC Score: 0.751444679351656\n",
      "\n",
      "\n",
      "\u001b[1m------------- RF -------------\u001b[0m\n",
      "Accuracy: 0.8597979797979798\n",
      "F1 Score: 0.5606994312876666\n",
      "ROC AUC Score: 0.8982205778717407\n",
      "\n",
      "\n",
      "\u001b[1m------------ GBM -------------\u001b[0m\n",
      "Accuracy: 0.8523905723905724\n",
      "F1 Score: 0.5917948717948718\n",
      "ROC AUC Score: 0.8732910500352361\n",
      "\n",
      "\n",
      "\u001b[1m---------- XGBoost -----------\u001b[0m\n",
      "Accuracy: 0.8561616161616161\n",
      "F1 Score: 0.6258721670486376\n",
      "ROC AUC Score: 0.8713530655391122\n",
      "\n",
      "\n",
      "\u001b[1m---------- CatBoost ----------\u001b[0m\n",
      "Accuracy: 0.8783164983164984\n",
      "F1 Score: 0.6245098039215686\n",
      "ROC AUC Score: 0.8893587033121918\n",
      "\n",
      "\n",
      "\u001b[1m---------- LightGBM ----------\u001b[0m\n",
      "Accuracy: 0.8746127946127945\n",
      "F1 Score: 0.6479059829059829\n",
      "ROC AUC Score: 0.8867512332628611\n",
      "\n",
      "\n"
     ]
    }
   ],
   "source": [
    "for name, model in models:\n",
    "    cv_results = cross_validate(model, X, y, cv=5, scoring=['accuracy','f1','roc_auc'])\n",
    "    print('\\033[1m' +f\" {name} \".center(30, '-')+'\\033[0m')\n",
    "    print(f\"Accuracy: {cv_results['test_accuracy'].mean()}\")\n",
    "    print(f\"F1 Score: {cv_results['test_f1'].mean()}\")\n",
    "    print(f\"ROC AUC Score: {cv_results['test_roc_auc'].mean()}\")\n",
    "    print(\"\\n\")"
   ]
  },
  {
   "cell_type": "code",
   "execution_count": 37,
   "id": "9f0109f2",
   "metadata": {
    "execution": {
     "iopub.execute_input": "2023-04-20T20:14:45.597291Z",
     "iopub.status.busy": "2023-04-20T20:14:45.596871Z",
     "iopub.status.idle": "2023-04-20T20:14:46.014800Z",
     "shell.execute_reply": "2023-04-20T20:14:46.013780Z"
    },
    "papermill": {
     "duration": 0.435186,
     "end_time": "2023-04-20T20:14:46.017555",
     "exception": false,
     "start_time": "2023-04-20T20:14:45.582369",
     "status": "completed"
    },
    "tags": []
   },
   "outputs": [],
   "source": [
    "import optuna"
   ]
  },
  {
   "cell_type": "code",
   "execution_count": 38,
   "id": "23393ebe",
   "metadata": {
    "execution": {
     "iopub.execute_input": "2023-04-20T20:14:46.046733Z",
     "iopub.status.busy": "2023-04-20T20:14:46.045727Z",
     "iopub.status.idle": "2023-04-20T20:14:46.052925Z",
     "shell.execute_reply": "2023-04-20T20:14:46.051793Z"
    },
    "papermill": {
     "duration": 0.024508,
     "end_time": "2023-04-20T20:14:46.055464",
     "exception": false,
     "start_time": "2023-04-20T20:14:46.030956",
     "status": "completed"
    },
    "tags": []
   },
   "outputs": [],
   "source": [
    "def objective(trial):\n",
    "    param = {\n",
    "      'iterations': trial.suggest_int(\"iterations\", 100, 1000),\n",
    "      'learning_rate': trial.suggest_float(\"learning_rate\", 0.001, 0.1, log=True),\n",
    "      'depth': trial.suggest_int(\"depth\", 4, 10),\n",
    "      'random_state': 42,\n",
    "      'verbose': False,\n",
    "      }\n",
    "\n",
    "    model = CatBoostClassifier(**param)  \n",
    "    \n",
    "    model.fit(X_train, y_train)\n",
    "    \n",
    "    y_pred = model.predict(X_test)\n",
    "    \n",
    "    return accuracy_score(y_test, y_pred)"
   ]
  },
  {
   "cell_type": "code",
   "execution_count": 39,
   "id": "bc5c3fb1",
   "metadata": {
    "execution": {
     "iopub.execute_input": "2023-04-20T20:14:46.083876Z",
     "iopub.status.busy": "2023-04-20T20:14:46.083464Z",
     "iopub.status.idle": "2023-04-20T20:15:27.515908Z",
     "shell.execute_reply": "2023-04-20T20:15:27.514673Z"
    },
    "papermill": {
     "duration": 41.449426,
     "end_time": "2023-04-20T20:15:27.518507",
     "exception": false,
     "start_time": "2023-04-20T20:14:46.069081",
     "status": "completed"
    },
    "tags": []
   },
   "outputs": [
    {
     "name": "stderr",
     "output_type": "stream",
     "text": [
      "\u001b[32m[I 2023-04-20 20:14:46,086]\u001b[0m A new study created in memory with name: no-name-061764ed-eacb-4b02-9d4f-df9737dd7d11\u001b[0m\n",
      "\u001b[32m[I 2023-04-20 20:14:47,300]\u001b[0m Trial 2 finished with value: 0.8727272727272727 and parameters: {'iterations': 789, 'learning_rate': 0.08994997888915496, 'depth': 4}. Best is trial 2 with value: 0.8727272727272727.\u001b[0m\n",
      "\u001b[32m[I 2023-04-20 20:14:48,891]\u001b[0m Trial 0 finished with value: 0.8727272727272727 and parameters: {'iterations': 546, 'learning_rate': 0.0077049747540318715, 'depth': 8}. Best is trial 2 with value: 0.8727272727272727.\u001b[0m\n",
      "\u001b[32m[I 2023-04-20 20:14:49,676]\u001b[0m Trial 3 finished with value: 0.8727272727272727 and parameters: {'iterations': 884, 'learning_rate': 0.012009428275478306, 'depth': 8}. Best is trial 2 with value: 0.8727272727272727.\u001b[0m\n",
      "\u001b[32m[I 2023-04-20 20:14:49,965]\u001b[0m Trial 5 finished with value: 0.8545454545454545 and parameters: {'iterations': 635, 'learning_rate': 0.027457868658234685, 'depth': 4}. Best is trial 2 with value: 0.8727272727272727.\u001b[0m\n",
      "\u001b[32m[I 2023-04-20 20:14:50,627]\u001b[0m Trial 7 finished with value: 0.8727272727272727 and parameters: {'iterations': 309, 'learning_rate': 0.0010649633535639458, 'depth': 6}. Best is trial 2 with value: 0.8727272727272727.\u001b[0m\n",
      "\u001b[32m[I 2023-04-20 20:14:51,248]\u001b[0m Trial 8 finished with value: 0.8727272727272727 and parameters: {'iterations': 154, 'learning_rate': 0.024293042871675337, 'depth': 8}. Best is trial 2 with value: 0.8727272727272727.\u001b[0m\n",
      "\u001b[32m[I 2023-04-20 20:14:51,630]\u001b[0m Trial 1 finished with value: 0.8727272727272727 and parameters: {'iterations': 611, 'learning_rate': 0.01295973973702884, 'depth': 10}. Best is trial 2 with value: 0.8727272727272727.\u001b[0m\n",
      "\u001b[32m[I 2023-04-20 20:14:52,467]\u001b[0m Trial 4 finished with value: 0.8727272727272727 and parameters: {'iterations': 974, 'learning_rate': 0.004845736217812137, 'depth': 9}. Best is trial 2 with value: 0.8727272727272727.\u001b[0m\n",
      "\u001b[32m[I 2023-04-20 20:14:53,374]\u001b[0m Trial 9 finished with value: 0.8727272727272727 and parameters: {'iterations': 750, 'learning_rate': 0.005309962883649175, 'depth': 5}. Best is trial 2 with value: 0.8727272727272727.\u001b[0m\n",
      "\u001b[32m[I 2023-04-20 20:14:54,705]\u001b[0m Trial 12 finished with value: 0.8727272727272727 and parameters: {'iterations': 368, 'learning_rate': 0.0011114069037825643, 'depth': 6}. Best is trial 2 with value: 0.8727272727272727.\u001b[0m\n",
      "\u001b[32m[I 2023-04-20 20:14:55,965]\u001b[0m Trial 11 finished with value: 0.8363636363636363 and parameters: {'iterations': 853, 'learning_rate': 0.06085197002823859, 'depth': 7}. Best is trial 2 with value: 0.8727272727272727.\u001b[0m\n",
      "\u001b[32m[I 2023-04-20 20:14:56,497]\u001b[0m Trial 13 finished with value: 0.8727272727272727 and parameters: {'iterations': 455, 'learning_rate': 0.00288322389894939, 'depth': 7}. Best is trial 2 with value: 0.8727272727272727.\u001b[0m\n",
      "\u001b[32m[I 2023-04-20 20:14:56,802]\u001b[0m Trial 10 finished with value: 0.8363636363636363 and parameters: {'iterations': 638, 'learning_rate': 0.05543390536827688, 'depth': 9}. Best is trial 2 with value: 0.8727272727272727.\u001b[0m\n",
      "\u001b[32m[I 2023-04-20 20:14:57,488]\u001b[0m Trial 6 finished with value: 0.8727272727272727 and parameters: {'iterations': 824, 'learning_rate': 0.012028583075472414, 'depth': 10}. Best is trial 2 with value: 0.8727272727272727.\u001b[0m\n",
      "\u001b[32m[I 2023-04-20 20:15:01,068]\u001b[0m Trial 14 finished with value: 0.8727272727272727 and parameters: {'iterations': 512, 'learning_rate': 0.006994001569674864, 'depth': 10}. Best is trial 2 with value: 0.8727272727272727.\u001b[0m\n",
      "\u001b[32m[I 2023-04-20 20:15:02,148]\u001b[0m Trial 16 finished with value: 0.8727272727272727 and parameters: {'iterations': 512, 'learning_rate': 0.012009317572958226, 'depth': 10}. Best is trial 2 with value: 0.8727272727272727.\u001b[0m\n",
      "\u001b[32m[I 2023-04-20 20:15:03,011]\u001b[0m Trial 15 finished with value: 0.8727272727272727 and parameters: {'iterations': 575, 'learning_rate': 0.014697054553518876, 'depth': 10}. Best is trial 2 with value: 0.8727272727272727.\u001b[0m\n",
      "\u001b[32m[I 2023-04-20 20:15:03,384]\u001b[0m Trial 17 finished with value: 0.8545454545454545 and parameters: {'iterations': 541, 'learning_rate': 0.023361409708776107, 'depth': 10}. Best is trial 2 with value: 0.8727272727272727.\u001b[0m\n",
      "\u001b[32m[I 2023-04-20 20:15:04,686]\u001b[0m Trial 20 finished with value: 0.8545454545454545 and parameters: {'iterations': 261, 'learning_rate': 0.0051129661003033065, 'depth': 8}. Best is trial 2 with value: 0.8727272727272727.\u001b[0m\n",
      "\u001b[32m[I 2023-04-20 20:15:05,494]\u001b[0m Trial 21 finished with value: 0.8727272727272727 and parameters: {'iterations': 376, 'learning_rate': 0.002308521759130621, 'depth': 8}. Best is trial 2 with value: 0.8727272727272727.\u001b[0m\n",
      "\u001b[32m[I 2023-04-20 20:15:06,840]\u001b[0m Trial 18 finished with value: 0.8181818181818182 and parameters: {'iterations': 632, 'learning_rate': 0.02138508984780259, 'depth': 9}. Best is trial 2 with value: 0.8727272727272727.\u001b[0m\n",
      "\u001b[32m[I 2023-04-20 20:15:07,419]\u001b[0m Trial 22 finished with value: 0.8727272727272727 and parameters: {'iterations': 404, 'learning_rate': 0.0024639350463925573, 'depth': 9}. Best is trial 2 with value: 0.8727272727272727.\u001b[0m\n",
      "\u001b[32m[I 2023-04-20 20:15:07,808]\u001b[0m Trial 19 finished with value: 0.8727272727272727 and parameters: {'iterations': 681, 'learning_rate': 0.0024769601831898386, 'depth': 9}. Best is trial 2 with value: 0.8727272727272727.\u001b[0m\n",
      "\u001b[32m[I 2023-04-20 20:15:10,308]\u001b[0m Trial 24 finished with value: 0.8727272727272727 and parameters: {'iterations': 461, 'learning_rate': 0.00796962224165114, 'depth': 9}. Best is trial 2 with value: 0.8727272727272727.\u001b[0m\n",
      "\u001b[32m[I 2023-04-20 20:15:10,698]\u001b[0m Trial 23 finished with value: 0.8727272727272727 and parameters: {'iterations': 686, 'learning_rate': 0.008003259612846205, 'depth': 9}. Best is trial 2 with value: 0.8727272727272727.\u001b[0m\n",
      "\u001b[32m[I 2023-04-20 20:15:10,984]\u001b[0m Trial 25 finished with value: 0.8727272727272727 and parameters: {'iterations': 494, 'learning_rate': 0.00786494722840627, 'depth': 9}. Best is trial 2 with value: 0.8727272727272727.\u001b[0m\n",
      "\u001b[32m[I 2023-04-20 20:15:12,697]\u001b[0m Trial 26 finished with value: 0.8727272727272727 and parameters: {'iterations': 724, 'learning_rate': 0.0017131610604727175, 'depth': 9}. Best is trial 2 with value: 0.8727272727272727.\u001b[0m\n",
      "\u001b[32m[I 2023-04-20 20:15:12,736]\u001b[0m Trial 28 finished with value: 0.8727272727272727 and parameters: {'iterations': 410, 'learning_rate': 0.0017442197176565314, 'depth': 8}. Best is trial 2 with value: 0.8727272727272727.\u001b[0m\n",
      "\u001b[32m[I 2023-04-20 20:15:13,557]\u001b[0m Trial 27 finished with value: 0.8727272727272727 and parameters: {'iterations': 687, 'learning_rate': 0.002069634480573882, 'depth': 8}. Best is trial 2 with value: 0.8727272727272727.\u001b[0m\n",
      "\u001b[32m[I 2023-04-20 20:15:13,955]\u001b[0m Trial 29 finished with value: 0.8727272727272727 and parameters: {'iterations': 713, 'learning_rate': 0.003397655650935345, 'depth': 8}. Best is trial 2 with value: 0.8727272727272727.\u001b[0m\n",
      "\u001b[32m[I 2023-04-20 20:15:14,016]\u001b[0m Trial 30 finished with value: 0.8727272727272727 and parameters: {'iterations': 441, 'learning_rate': 0.003865647460828777, 'depth': 7}. Best is trial 2 with value: 0.8727272727272727.\u001b[0m\n",
      "\u001b[32m[I 2023-04-20 20:15:14,375]\u001b[0m Trial 31 finished with value: 0.8727272727272727 and parameters: {'iterations': 474, 'learning_rate': 0.003831619012931658, 'depth': 7}. Best is trial 2 with value: 0.8727272727272727.\u001b[0m\n",
      "\u001b[32m[I 2023-04-20 20:15:15,443]\u001b[0m Trial 32 finished with value: 0.8727272727272727 and parameters: {'iterations': 576, 'learning_rate': 0.0036684143272530632, 'depth': 7}. Best is trial 2 with value: 0.8727272727272727.\u001b[0m\n",
      "\u001b[32m[I 2023-04-20 20:15:16,295]\u001b[0m Trial 36 finished with value: 0.8727272727272727 and parameters: {'iterations': 271, 'learning_rate': 0.0016713426236726826, 'depth': 6}. Best is trial 2 with value: 0.8727272727272727.\u001b[0m\n",
      "\u001b[32m[I 2023-04-20 20:15:16,588]\u001b[0m Trial 34 finished with value: 0.8727272727272727 and parameters: {'iterations': 581, 'learning_rate': 0.0014487101361683216, 'depth': 8}. Best is trial 2 with value: 0.8727272727272727.\u001b[0m\n",
      "\u001b[32m[I 2023-04-20 20:15:16,992]\u001b[0m Trial 33 finished with value: 0.8727272727272727 and parameters: {'iterations': 906, 'learning_rate': 0.0015874199140743454, 'depth': 7}. Best is trial 2 with value: 0.8727272727272727.\u001b[0m\n",
      "\u001b[32m[I 2023-04-20 20:15:17,031]\u001b[0m Trial 35 finished with value: 0.8727272727272727 and parameters: {'iterations': 571, 'learning_rate': 0.0015693624598976913, 'depth': 8}. Best is trial 2 with value: 0.8727272727272727.\u001b[0m\n",
      "\u001b[32m[I 2023-04-20 20:15:17,184]\u001b[0m Trial 37 finished with value: 0.8727272727272727 and parameters: {'iterations': 319, 'learning_rate': 0.003788557941372784, 'depth': 7}. Best is trial 2 with value: 0.8727272727272727.\u001b[0m\n",
      "\u001b[32m[I 2023-04-20 20:15:17,835]\u001b[0m Trial 38 finished with value: 0.8727272727272727 and parameters: {'iterations': 447, 'learning_rate': 0.0039428246422356815, 'depth': 7}. Best is trial 2 with value: 0.8727272727272727.\u001b[0m\n",
      "\u001b[32m[I 2023-04-20 20:15:18,400]\u001b[0m Trial 41 finished with value: 0.8727272727272727 and parameters: {'iterations': 165, 'learning_rate': 0.015691337857389655, 'depth': 9}. Best is trial 2 with value: 0.8727272727272727.\u001b[0m\n",
      "\u001b[32m[I 2023-04-20 20:15:18,958]\u001b[0m Trial 42 finished with value: 0.8727272727272727 and parameters: {'iterations': 184, 'learning_rate': 0.007520442987750655, 'depth': 9}. Best is trial 2 with value: 0.8727272727272727.\u001b[0m\n",
      "\u001b[32m[I 2023-04-20 20:15:19,202]\u001b[0m Trial 40 finished with value: 0.8727272727272727 and parameters: {'iterations': 383, 'learning_rate': 0.006044256154992363, 'depth': 9}. Best is trial 2 with value: 0.8727272727272727.\u001b[0m\n",
      "\u001b[32m[I 2023-04-20 20:15:19,533]\u001b[0m Trial 39 finished with value: 0.8727272727272727 and parameters: {'iterations': 903, 'learning_rate': 0.003984267988179335, 'depth': 7}. Best is trial 2 with value: 0.8727272727272727.\u001b[0m\n",
      "\u001b[32m[I 2023-04-20 20:15:22,680]\u001b[0m Trial 44 finished with value: 0.8727272727272727 and parameters: {'iterations': 505, 'learning_rate': 0.007825233969912485, 'depth': 9}. Best is trial 2 with value: 0.8727272727272727.\u001b[0m\n",
      "\u001b[32m[I 2023-04-20 20:15:24,149]\u001b[0m Trial 43 finished with value: 0.8727272727272727 and parameters: {'iterations': 772, 'learning_rate': 0.006618744041283085, 'depth': 9}. Best is trial 2 with value: 0.8727272727272727.\u001b[0m\n",
      "\u001b[32m[I 2023-04-20 20:15:24,626]\u001b[0m Trial 45 finished with value: 0.8727272727272727 and parameters: {'iterations': 767, 'learning_rate': 0.008638307142966234, 'depth': 9}. Best is trial 2 with value: 0.8727272727272727.\u001b[0m\n",
      "\u001b[32m[I 2023-04-20 20:15:25,532]\u001b[0m Trial 46 finished with value: 0.8727272727272727 and parameters: {'iterations': 782, 'learning_rate': 0.008714383528962316, 'depth': 9}. Best is trial 2 with value: 0.8727272727272727.\u001b[0m\n",
      "\u001b[32m[I 2023-04-20 20:15:26,754]\u001b[0m Trial 47 finished with value: 0.8727272727272727 and parameters: {'iterations': 822, 'learning_rate': 0.011090206643297924, 'depth': 8}. Best is trial 2 with value: 0.8727272727272727.\u001b[0m\n",
      "\u001b[32m[I 2023-04-20 20:15:27,311]\u001b[0m Trial 48 finished with value: 0.8727272727272727 and parameters: {'iterations': 802, 'learning_rate': 0.010673854831167538, 'depth': 8}. Best is trial 2 with value: 0.8727272727272727.\u001b[0m\n",
      "\u001b[32m[I 2023-04-20 20:15:27,500]\u001b[0m Trial 49 finished with value: 0.8727272727272727 and parameters: {'iterations': 832, 'learning_rate': 0.0012000092919412196, 'depth': 8}. Best is trial 2 with value: 0.8727272727272727.\u001b[0m\n"
     ]
    },
    {
     "name": "stdout",
     "output_type": "stream",
     "text": [
      "Number of finished trials: 50\n",
      "Best trial: {'iterations': 789, 'learning_rate': 0.08994997888915496, 'depth': 4}\n"
     ]
    }
   ],
   "source": [
    "study = optuna.create_study(direction='maximize')\n",
    "study.optimize(objective, n_trials=50, n_jobs=-1)\n",
    "print('Number of finished trials:', len(study.trials))\n",
    "print('Best trial:', study.best_trial.params)"
   ]
  },
  {
   "cell_type": "code",
   "execution_count": 40,
   "id": "7ac15cda",
   "metadata": {
    "execution": {
     "iopub.execute_input": "2023-04-20T20:15:27.553857Z",
     "iopub.status.busy": "2023-04-20T20:15:27.553423Z",
     "iopub.status.idle": "2023-04-20T20:15:28.140132Z",
     "shell.execute_reply": "2023-04-20T20:15:28.138873Z"
    },
    "papermill": {
     "duration": 0.607721,
     "end_time": "2023-04-20T20:15:28.142854",
     "exception": false,
     "start_time": "2023-04-20T20:15:27.535133",
     "status": "completed"
    },
    "tags": []
   },
   "outputs": [],
   "source": [
    "cat_model = CatBoostClassifier(**study.best_trial.params,verbose=False).fit(X_train, y_train)"
   ]
  },
  {
   "cell_type": "code",
   "execution_count": 41,
   "id": "e046785f",
   "metadata": {
    "execution": {
     "iopub.execute_input": "2023-04-20T20:15:28.179580Z",
     "iopub.status.busy": "2023-04-20T20:15:28.179183Z",
     "iopub.status.idle": "2023-04-20T20:15:28.186516Z",
     "shell.execute_reply": "2023-04-20T20:15:28.185148Z"
    },
    "papermill": {
     "duration": 0.028958,
     "end_time": "2023-04-20T20:15:28.189353",
     "exception": false,
     "start_time": "2023-04-20T20:15:28.160395",
     "status": "completed"
    },
    "tags": []
   },
   "outputs": [],
   "source": [
    "y_pred = cat_model.predict(X_test)"
   ]
  },
  {
   "cell_type": "code",
   "execution_count": 42,
   "id": "03e9cef0",
   "metadata": {
    "execution": {
     "iopub.execute_input": "2023-04-20T20:15:28.226357Z",
     "iopub.status.busy": "2023-04-20T20:15:28.225952Z",
     "iopub.status.idle": "2023-04-20T20:15:28.239304Z",
     "shell.execute_reply": "2023-04-20T20:15:28.238059Z"
    },
    "papermill": {
     "duration": 0.034619,
     "end_time": "2023-04-20T20:15:28.241831",
     "exception": false,
     "start_time": "2023-04-20T20:15:28.207212",
     "status": "completed"
    },
    "tags": []
   },
   "outputs": [
    {
     "name": "stdout",
     "output_type": "stream",
     "text": [
      "Accuracy = 0.8545454545454545\n",
      "ROC = 0.6363636363636364\n",
      "F1 = 0.42857142857142855\n"
     ]
    }
   ],
   "source": [
    "print(f\"Accuracy = {accuracy_score(y_test, y_pred)}\")\n",
    "print(f\"ROC = {roc_auc_score(y_test, y_pred)}\")\n",
    "print(f\"F1 = {f1_score(y_test, y_pred)}\")"
   ]
  },
  {
   "cell_type": "code",
   "execution_count": 43,
   "id": "c0345e82",
   "metadata": {
    "execution": {
     "iopub.execute_input": "2023-04-20T20:15:28.278858Z",
     "iopub.status.busy": "2023-04-20T20:15:28.278400Z",
     "iopub.status.idle": "2023-04-20T20:15:28.593643Z",
     "shell.execute_reply": "2023-04-20T20:15:28.592525Z"
    },
    "papermill": {
     "duration": 0.336856,
     "end_time": "2023-04-20T20:15:28.596050",
     "exception": false,
     "start_time": "2023-04-20T20:15:28.259194",
     "status": "completed"
    },
    "tags": []
   },
   "outputs": [
    {
     "data": {
      "image/png": "[encoded data removed]",
      "text/plain": [
       "<Figure size 720x720 with 1 Axes>"
      ]
     },
     "metadata": {
      "needs_background": "light"
     },
     "output_type": "display_data"
    }
   ],
   "source": [
    "def plot_importance(model, features, num=30, save=False):\n",
    "    feature_imp = pd.DataFrame({'Value': model.feature_importances_, 'Feature': features.columns})\n",
    "    plt.figure(figsize=(10, 10))\n",
    "    sns.set(font_scale=1)\n",
    "    sns.barplot(x=\"Value\", y=\"Feature\", data=feature_imp.sort_values(by=\"Value\",\n",
    "                                                                      ascending=False)[0:num])\n",
    "    plt.title('Features')\n",
    "    plt.tight_layout()\n",
    "    plt.show()\n",
    "    if save:\n",
    "        plt.savefig('importances.png')\n",
    "\n",
    "\n",
    "plot_importance(cat_model, X_train, 10)"
   ]
  }
 ],
 "metadata": {
  "kernelspec": {
   "display_name": "Python 3",
   "language": "python",
   "name": "python3"
  },
  "language_info": {
   "codemirror_mode": {
    "name": "ipython",
    "version": 3
   },
   "file_extension": ".py",
   "mimetype": "text/x-python",
   "name": "python",
   "nbconvert_exporter": "python",
   "pygments_lexer": "ipython3",
   "version": "3.7.12"
  },
  "papermill": {
   "default_parameters": {},
   "duration": 68.037595,
   "end_time": "2023-04-20T20:15:29.539763",
   "environment_variables": {},
   "exception": null,
   "input_path": "__notebook__.ipynb",
   "output_path": "__notebook__.ipynb",
   "parameters": {},
   "start_time": "2023-04-20T20:14:21.502168",
   "version": "2.3.4"
  }
 },
 "nbformat": 4,
 "nbformat_minor": 5
}
